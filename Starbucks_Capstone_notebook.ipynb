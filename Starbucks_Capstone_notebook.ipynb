{
 "cells": [
  {
   "cell_type": "markdown",
   "metadata": {},
   "source": [
    "# Starbucks Capstone Challenge\n",
    "\n",
    "### Introduction\n",
    "\n",
    "This data set contains simulated data that mimics customer behavior on the Starbucks rewards mobile app. Once every few days, Starbucks sends out an offer to users of the mobile app. An offer can be merely an advertisement for a drink or an actual offer such as a discount or BOGO (buy one get one free). Some users might not receive any offer during certain weeks. \n",
    "\n",
    "Not all users receive the same offer, and that is the challenge to solve with this data set.\n",
    "\n",
    "Your task is to combine transaction, demographic and offer data to determine which demographic groups respond best to which offer type. This data set is a simplified version of the real Starbucks app because the underlying simulator only has one product whereas Starbucks actually sells dozens of products.\n",
    "\n",
    "Every offer has a validity period before the offer expires. As an example, a BOGO offer might be valid for only 5 days. You'll see in the data set that informational offers have a validity period even though these ads are merely providing information about a product; for example, if an informational offer has 7 days of validity, you can assume the customer is feeling the influence of the offer for 7 days after receiving the advertisement.\n",
    "\n",
    "You'll be given transactional data showing user purchases made on the app including the timestamp of purchase and the amount of money spent on a purchase. This transactional data also has a record for each offer that a user receives as well as a record for when a user actually views the offer. There are also records for when a user completes an offer. \n",
    "\n",
    "Keep in mind as well that someone using the app might make a purchase through the app without having received an offer or seen an offer.\n",
    "\n",
    "### Example\n",
    "\n",
    "To give an example, a user could receive a discount offer buy 10 dollars get 2 off on Monday. The offer is valid for 10 days from receipt. If the customer accumulates at least 10 dollars in purchases during the validity period, the customer completes the offer.\n",
    "\n",
    "However, there are a few things to watch out for in this data set. Customers do not opt into the offers that they receive; in other words, a user can receive an offer, never actually view the offer, and still complete the offer. For example, a user might receive the \"buy 10 dollars get 2 dollars off offer\", but the user never opens the offer during the 10 day validity period. The customer spends 15 dollars during those ten days. There will be an offer completion record in the data set; however, the customer was not influenced by the offer because the customer never viewed the offer.\n",
    "\n",
    "### Cleaning\n",
    "\n",
    "This makes data cleaning especially important and tricky.\n",
    "\n",
    "You'll also want to take into account that some demographic groups will make purchases even if they don't receive an offer. From a business perspective, if a customer is going to make a 10 dollar purchase without an offer anyway, you wouldn't want to send a buy 10 dollars get 2 dollars off offer. You'll want to try to assess what a certain demographic group will buy when not receiving any offers.\n",
    "\n",
    "### Final Advice\n",
    "\n",
    "Because this is a capstone project, you are free to analyze the data any way you see fit. For example, you could build a machine learning model that predicts how much someone will spend based on demographics and offer type. Or you could build a model that predicts whether or not someone will respond to an offer. Or, you don't need to build a machine learning model at all. You could develop a set of heuristics that determine what offer you should send to each customer (i.e., 75 percent of women customers who were 35 years old responded to offer A vs 40 percent from the same demographic to offer B, so send offer A)."
   ]
  },
  {
   "cell_type": "markdown",
   "metadata": {},
   "source": [
    "# Data Sets\n",
    "\n",
    "The data is contained in three files:\n",
    "\n",
    "* portfolio.json - containing offer ids and meta data about each offer (duration, type, etc.)\n",
    "* profile.json - demographic data for each customer\n",
    "* transcript.json - records for transactions, offers received, offers viewed, and offers completed\n",
    "\n",
    "Here is the schema and explanation of each variable in the files:\n",
    "\n",
    "**portfolio.json**\n",
    "* id (string) - offer id\n",
    "* offer_type (string) - type of offer ie BOGO, discount, informational\n",
    "* difficulty (int) - minimum required spend to complete an offer\n",
    "* reward (int) - reward given for completing an offer\n",
    "* duration (int) - time for offer to be open, in days\n",
    "* channels (list of strings)\n",
    "\n",
    "**profile.json**\n",
    "* age (int) - age of the customer \n",
    "* became_member_on (int) - date when customer created an app account\n",
    "* gender (str) - gender of the customer (note some entries contain 'O' for other rather than M or F)\n",
    "* id (str) - customer id\n",
    "* income (float) - customer's income\n",
    "\n",
    "**transcript.json**\n",
    "* event (str) - record description (ie transaction, offer received, offer viewed, etc.)\n",
    "* person (str) - customer id\n",
    "* time (int) - time in hours since start of test. The data begins at time t=0\n",
    "* value - (dict of strings) - either an offer id or transaction amount depending on the record\n",
    "\n",
    "**Note:** If you are using the workspace, you will need to go to the terminal and run the command `conda update pandas` before reading in the files. This is because the version of pandas in the workspace cannot read in the transcript.json file correctly, but the newest version of pandas can. You can access the termnal from the orange icon in the top left of this notebook.  \n",
    "\n",
    "You can see how to access the terminal and how the install works using the two images below.  First you need to access the terminal:\n",
    "\n",
    "<img src=\"Images/pic1.png\"/>\n",
    "\n",
    "Then you will want to run the above command:\n",
    "\n",
    "<img src=\"Images/pic2.png\"/>\n",
    "\n",
    "Finally, when you enter back into the notebook (use the jupyter icon again), you should be able to run the below cell without any errors."
   ]
  },
  {
   "cell_type": "code",
   "execution_count": 1,
   "metadata": {},
   "outputs": [],
   "source": [
    "#Importing everything we'll need\n",
    "\n",
    "#General Packages\n",
    "import math\n",
    "import json\n",
    "import os\n",
    "import datetime\n",
    "\n",
    "#PyData Packages\n",
    "import pandas as pd\n",
    "import numpy as np\n",
    "import matplotlib.pyplot as plt\n",
    "import seaborn as sb\n",
    "\n",
    "#Sklearn Packages\n",
    "from sklearn.metrics import silhouette_score\n",
    "from sklearn.preprocessing import MultiLabelBinarizer, StandardScaler, Imputer\n",
    "from sklearn.cluster import KMeans\n",
    "from sklearn.cluster import AgglomerativeClustering\n",
    "\n",
    "#Magic Commands\n",
    "%matplotlib inline"
   ]
  },
  {
   "cell_type": "code",
   "execution_count": 2,
   "metadata": {},
   "outputs": [],
   "source": [
    "#Reading in the json files\n",
    "portfolio = pd.read_json('data/portfolio.json', orient = 'records', lines = True)\n",
    "profile = pd.read_json('data/profile.json', orient = 'records', lines = True)\n",
    "transcript = pd.read_json('data/transcript.json', orient = 'records', lines = True)"
   ]
  },
  {
   "cell_type": "markdown",
   "metadata": {},
   "source": [
    "### Initial Analysis & Data Preproccesing\n",
    "###### With our packages and data imported, we'll move on by performing a lightweight analysis on the dataset to determine what pieces need preprocessed before we move on into the next section. We'll do this for each of our three datasets."
   ]
  },
  {
   "cell_type": "code",
   "execution_count": 3,
   "metadata": {},
   "outputs": [
    {
     "data": {
      "text/html": [
       "<div>\n",
       "<style scoped>\n",
       "    .dataframe tbody tr th:only-of-type {\n",
       "        vertical-align: middle;\n",
       "    }\n",
       "\n",
       "    .dataframe tbody tr th {\n",
       "        vertical-align: top;\n",
       "    }\n",
       "\n",
       "    .dataframe thead th {\n",
       "        text-align: right;\n",
       "    }\n",
       "</style>\n",
       "<table border=\"1\" class=\"dataframe\">\n",
       "  <thead>\n",
       "    <tr style=\"text-align: right;\">\n",
       "      <th></th>\n",
       "      <th>reward</th>\n",
       "      <th>channels</th>\n",
       "      <th>difficulty</th>\n",
       "      <th>duration</th>\n",
       "      <th>offer_type</th>\n",
       "      <th>id</th>\n",
       "    </tr>\n",
       "  </thead>\n",
       "  <tbody>\n",
       "    <tr>\n",
       "      <th>0</th>\n",
       "      <td>10</td>\n",
       "      <td>[email, mobile, social]</td>\n",
       "      <td>10</td>\n",
       "      <td>7</td>\n",
       "      <td>bogo</td>\n",
       "      <td>ae264e3637204a6fb9bb56bc8210ddfd</td>\n",
       "    </tr>\n",
       "    <tr>\n",
       "      <th>1</th>\n",
       "      <td>10</td>\n",
       "      <td>[web, email, mobile, social]</td>\n",
       "      <td>10</td>\n",
       "      <td>5</td>\n",
       "      <td>bogo</td>\n",
       "      <td>4d5c57ea9a6940dd891ad53e9dbe8da0</td>\n",
       "    </tr>\n",
       "    <tr>\n",
       "      <th>2</th>\n",
       "      <td>0</td>\n",
       "      <td>[web, email, mobile]</td>\n",
       "      <td>0</td>\n",
       "      <td>4</td>\n",
       "      <td>informational</td>\n",
       "      <td>3f207df678b143eea3cee63160fa8bed</td>\n",
       "    </tr>\n",
       "    <tr>\n",
       "      <th>3</th>\n",
       "      <td>5</td>\n",
       "      <td>[web, email, mobile]</td>\n",
       "      <td>5</td>\n",
       "      <td>7</td>\n",
       "      <td>bogo</td>\n",
       "      <td>9b98b8c7a33c4b65b9aebfe6a799e6d9</td>\n",
       "    </tr>\n",
       "    <tr>\n",
       "      <th>4</th>\n",
       "      <td>5</td>\n",
       "      <td>[web, email]</td>\n",
       "      <td>20</td>\n",
       "      <td>10</td>\n",
       "      <td>discount</td>\n",
       "      <td>0b1e1539f2cc45b7b9fa7c272da2e1d7</td>\n",
       "    </tr>\n",
       "  </tbody>\n",
       "</table>\n",
       "</div>"
      ],
      "text/plain": [
       "   reward                      channels  difficulty  duration     offer_type  \\\n",
       "0      10       [email, mobile, social]          10         7           bogo   \n",
       "1      10  [web, email, mobile, social]          10         5           bogo   \n",
       "2       0          [web, email, mobile]           0         4  informational   \n",
       "3       5          [web, email, mobile]           5         7           bogo   \n",
       "4       5                  [web, email]          20        10       discount   \n",
       "\n",
       "                                 id  \n",
       "0  ae264e3637204a6fb9bb56bc8210ddfd  \n",
       "1  4d5c57ea9a6940dd891ad53e9dbe8da0  \n",
       "2  3f207df678b143eea3cee63160fa8bed  \n",
       "3  9b98b8c7a33c4b65b9aebfe6a799e6d9  \n",
       "4  0b1e1539f2cc45b7b9fa7c272da2e1d7  "
      ]
     },
     "execution_count": 3,
     "metadata": {},
     "output_type": "execute_result"
    }
   ],
   "source": [
    "#Looking at the first fiew rows of the portfolio dataset\n",
    "portfolio.head()"
   ]
  },
  {
   "cell_type": "code",
   "execution_count": 4,
   "metadata": {},
   "outputs": [
    {
     "name": "stdout",
     "output_type": "stream",
     "text": [
      "<class 'pandas.core.frame.DataFrame'>\n",
      "RangeIndex: 10 entries, 0 to 9\n",
      "Data columns (total 6 columns):\n",
      " #   Column      Non-Null Count  Dtype \n",
      "---  ------      --------------  ----- \n",
      " 0   reward      10 non-null     int64 \n",
      " 1   channels    10 non-null     object\n",
      " 2   difficulty  10 non-null     int64 \n",
      " 3   duration    10 non-null     int64 \n",
      " 4   offer_type  10 non-null     object\n",
      " 5   id          10 non-null     object\n",
      "dtypes: int64(3), object(3)\n",
      "memory usage: 608.0+ bytes\n"
     ]
    }
   ],
   "source": [
    "portfolio.info()"
   ]
  },
  {
   "cell_type": "code",
   "execution_count": 5,
   "metadata": {},
   "outputs": [
    {
     "data": {
      "text/plain": [
       "bogo             4\n",
       "discount         4\n",
       "informational    2\n",
       "Name: offer_type, dtype: int64"
      ]
     },
     "execution_count": 5,
     "metadata": {},
     "output_type": "execute_result"
    }
   ],
   "source": [
    "portfolio['offer_type'].value_counts()"
   ]
  },
  {
   "cell_type": "code",
   "execution_count": 6,
   "metadata": {},
   "outputs": [
    {
     "ename": "TypeError",
     "evalue": "unhashable type: 'list'",
     "output_type": "error",
     "traceback": [
      "\u001b[1;31m---------------------------------------------------------------------------\u001b[0m",
      "\u001b[1;31mTypeError\u001b[0m                                 Traceback (most recent call last)",
      "\u001b[1;32mpandas\\_libs\\hashtable_class_helper.pxi\u001b[0m in \u001b[0;36mpandas._libs.hashtable.PyObjectHashTable.map_locations\u001b[1;34m()\u001b[0m\n",
      "\u001b[1;31mTypeError\u001b[0m: unhashable type: 'list'"
     ]
    },
    {
     "name": "stderr",
     "output_type": "stream",
     "text": [
      "Exception ignored in: 'pandas._libs.index.IndexEngine._call_map_locations'\n",
      "Traceback (most recent call last):\n",
      "  File \"pandas\\_libs\\hashtable_class_helper.pxi\", line 4588, in pandas._libs.hashtable.PyObjectHashTable.map_locations\n",
      "TypeError: unhashable type: 'list'\n"
     ]
    },
    {
     "data": {
      "text/plain": [
       "[web, email, mobile, social]    4\n",
       "[web, email, mobile]            3\n",
       "[email, mobile, social]         2\n",
       "[web, email]                    1\n",
       "Name: channels, dtype: int64"
      ]
     },
     "execution_count": 6,
     "metadata": {},
     "output_type": "execute_result"
    }
   ],
   "source": [
    "#Viewing all the channels leveraged\n",
    "portfolio['channels'].value_counts()"
   ]
  },
  {
   "cell_type": "markdown",
   "metadata": {},
   "source": [
    "\n",
    "##### Portfolio Clean Up\n",
    "\n",
    "Since this is a relatively small dataset, there isn't much to  change. That said, we'll clean up these pieces here:\n",
    "\n",
    "- Change the column name from 'id' to the more descriptive 'offer_id' since the id column is present in our other datasets\n",
    "    \n",
    "- One hot encode the 'offer_type' column to work well with our algorithms later\n",
    "   \n",
    "- Separate and one hot encode the 'channels' column to also work with our algorithms later\n",
    "\n",
    "- Drop 'offer_type' and 'channels' columns now that they are one hot encoded\n",
    "\n"
   ]
  },
  {
   "cell_type": "code",
   "execution_count": 7,
   "metadata": {},
   "outputs": [
    {
     "name": "stdout",
     "output_type": "stream",
     "text": [
      "<class 'pandas.core.frame.DataFrame'>\n",
      "RangeIndex: 10 entries, 0 to 9\n",
      "Data columns (total 6 columns):\n",
      " #   Column      Non-Null Count  Dtype \n",
      "---  ------      --------------  ----- \n",
      " 0   reward      10 non-null     int64 \n",
      " 1   channels    10 non-null     object\n",
      " 2   difficulty  10 non-null     int64 \n",
      " 3   duration    10 non-null     int64 \n",
      " 4   offer_type  10 non-null     object\n",
      " 5   offer_id    10 non-null     object\n",
      "dtypes: int64(3), object(3)\n",
      "memory usage: 608.0+ bytes\n"
     ]
    }
   ],
   "source": [
    "#Changing the column name from 'id' to 'offer_id'\n",
    "portfolio.rename(columns = {'id': 'offer_id'}, inplace = True)\n",
    "portfolio.info()"
   ]
  },
  {
   "cell_type": "code",
   "execution_count": 8,
   "metadata": {},
   "outputs": [
    {
     "data": {
      "text/html": [
       "<div>\n",
       "<style scoped>\n",
       "    .dataframe tbody tr th:only-of-type {\n",
       "        vertical-align: middle;\n",
       "    }\n",
       "\n",
       "    .dataframe tbody tr th {\n",
       "        vertical-align: top;\n",
       "    }\n",
       "\n",
       "    .dataframe thead th {\n",
       "        text-align: right;\n",
       "    }\n",
       "</style>\n",
       "<table border=\"1\" class=\"dataframe\">\n",
       "  <thead>\n",
       "    <tr style=\"text-align: right;\">\n",
       "      <th></th>\n",
       "      <th>reward</th>\n",
       "      <th>channels</th>\n",
       "      <th>difficulty</th>\n",
       "      <th>duration</th>\n",
       "      <th>offer_type</th>\n",
       "      <th>offer_id</th>\n",
       "      <th>offer_bogo</th>\n",
       "      <th>offer_discount</th>\n",
       "      <th>offer_informational</th>\n",
       "    </tr>\n",
       "  </thead>\n",
       "  <tbody>\n",
       "    <tr>\n",
       "      <th>0</th>\n",
       "      <td>10</td>\n",
       "      <td>[email, mobile, social]</td>\n",
       "      <td>10</td>\n",
       "      <td>7</td>\n",
       "      <td>bogo</td>\n",
       "      <td>ae264e3637204a6fb9bb56bc8210ddfd</td>\n",
       "      <td>1</td>\n",
       "      <td>0</td>\n",
       "      <td>0</td>\n",
       "    </tr>\n",
       "    <tr>\n",
       "      <th>1</th>\n",
       "      <td>10</td>\n",
       "      <td>[web, email, mobile, social]</td>\n",
       "      <td>10</td>\n",
       "      <td>5</td>\n",
       "      <td>bogo</td>\n",
       "      <td>4d5c57ea9a6940dd891ad53e9dbe8da0</td>\n",
       "      <td>1</td>\n",
       "      <td>0</td>\n",
       "      <td>0</td>\n",
       "    </tr>\n",
       "    <tr>\n",
       "      <th>2</th>\n",
       "      <td>0</td>\n",
       "      <td>[web, email, mobile]</td>\n",
       "      <td>0</td>\n",
       "      <td>4</td>\n",
       "      <td>informational</td>\n",
       "      <td>3f207df678b143eea3cee63160fa8bed</td>\n",
       "      <td>0</td>\n",
       "      <td>0</td>\n",
       "      <td>1</td>\n",
       "    </tr>\n",
       "    <tr>\n",
       "      <th>3</th>\n",
       "      <td>5</td>\n",
       "      <td>[web, email, mobile]</td>\n",
       "      <td>5</td>\n",
       "      <td>7</td>\n",
       "      <td>bogo</td>\n",
       "      <td>9b98b8c7a33c4b65b9aebfe6a799e6d9</td>\n",
       "      <td>1</td>\n",
       "      <td>0</td>\n",
       "      <td>0</td>\n",
       "    </tr>\n",
       "    <tr>\n",
       "      <th>4</th>\n",
       "      <td>5</td>\n",
       "      <td>[web, email]</td>\n",
       "      <td>20</td>\n",
       "      <td>10</td>\n",
       "      <td>discount</td>\n",
       "      <td>0b1e1539f2cc45b7b9fa7c272da2e1d7</td>\n",
       "      <td>0</td>\n",
       "      <td>1</td>\n",
       "      <td>0</td>\n",
       "    </tr>\n",
       "  </tbody>\n",
       "</table>\n",
       "</div>"
      ],
      "text/plain": [
       "   reward                      channels  difficulty  duration     offer_type  \\\n",
       "0      10       [email, mobile, social]          10         7           bogo   \n",
       "1      10  [web, email, mobile, social]          10         5           bogo   \n",
       "2       0          [web, email, mobile]           0         4  informational   \n",
       "3       5          [web, email, mobile]           5         7           bogo   \n",
       "4       5                  [web, email]          20        10       discount   \n",
       "\n",
       "                           offer_id  offer_bogo  offer_discount  \\\n",
       "0  ae264e3637204a6fb9bb56bc8210ddfd           1               0   \n",
       "1  4d5c57ea9a6940dd891ad53e9dbe8da0           1               0   \n",
       "2  3f207df678b143eea3cee63160fa8bed           0               0   \n",
       "3  9b98b8c7a33c4b65b9aebfe6a799e6d9           1               0   \n",
       "4  0b1e1539f2cc45b7b9fa7c272da2e1d7           0               1   \n",
       "\n",
       "   offer_informational  \n",
       "0                    0  \n",
       "1                    0  \n",
       "2                    1  \n",
       "3                    0  \n",
       "4                    0  "
      ]
     },
     "execution_count": 8,
     "metadata": {},
     "output_type": "execute_result"
    }
   ],
   "source": [
    "#One-hot encoding the offer_type field, fixing a prefix of 'offer'\n",
    "offer_dummies = pd.get_dummies(portfolio['offer_type'], prefix = 'offer')\n",
    "portfolio = pd.concat([portfolio,offer_dummies], axis = 1)\n",
    "\n",
    "#After the changes\n",
    "portfolio.head()"
   ]
  },
  {
   "cell_type": "code",
   "execution_count": 9,
   "metadata": {},
   "outputs": [
    {
     "data": {
      "text/html": [
       "<div>\n",
       "<style scoped>\n",
       "    .dataframe tbody tr th:only-of-type {\n",
       "        vertical-align: middle;\n",
       "    }\n",
       "\n",
       "    .dataframe tbody tr th {\n",
       "        vertical-align: top;\n",
       "    }\n",
       "\n",
       "    .dataframe thead th {\n",
       "        text-align: right;\n",
       "    }\n",
       "</style>\n",
       "<table border=\"1\" class=\"dataframe\">\n",
       "  <thead>\n",
       "    <tr style=\"text-align: right;\">\n",
       "      <th></th>\n",
       "      <th>reward</th>\n",
       "      <th>channels</th>\n",
       "      <th>difficulty</th>\n",
       "      <th>duration</th>\n",
       "      <th>offer_type</th>\n",
       "      <th>offer_id</th>\n",
       "      <th>offer_bogo</th>\n",
       "      <th>offer_discount</th>\n",
       "      <th>offer_informational</th>\n",
       "      <th>channel_email</th>\n",
       "      <th>channel_mobile</th>\n",
       "      <th>channel_social</th>\n",
       "      <th>channel_web</th>\n",
       "    </tr>\n",
       "  </thead>\n",
       "  <tbody>\n",
       "    <tr>\n",
       "      <th>0</th>\n",
       "      <td>10</td>\n",
       "      <td>[email, mobile, social]</td>\n",
       "      <td>10</td>\n",
       "      <td>7</td>\n",
       "      <td>bogo</td>\n",
       "      <td>ae264e3637204a6fb9bb56bc8210ddfd</td>\n",
       "      <td>1</td>\n",
       "      <td>0</td>\n",
       "      <td>0</td>\n",
       "      <td>1</td>\n",
       "      <td>1</td>\n",
       "      <td>1</td>\n",
       "      <td>0</td>\n",
       "    </tr>\n",
       "    <tr>\n",
       "      <th>1</th>\n",
       "      <td>10</td>\n",
       "      <td>[web, email, mobile, social]</td>\n",
       "      <td>10</td>\n",
       "      <td>5</td>\n",
       "      <td>bogo</td>\n",
       "      <td>4d5c57ea9a6940dd891ad53e9dbe8da0</td>\n",
       "      <td>1</td>\n",
       "      <td>0</td>\n",
       "      <td>0</td>\n",
       "      <td>1</td>\n",
       "      <td>1</td>\n",
       "      <td>1</td>\n",
       "      <td>1</td>\n",
       "    </tr>\n",
       "    <tr>\n",
       "      <th>2</th>\n",
       "      <td>0</td>\n",
       "      <td>[web, email, mobile]</td>\n",
       "      <td>0</td>\n",
       "      <td>4</td>\n",
       "      <td>informational</td>\n",
       "      <td>3f207df678b143eea3cee63160fa8bed</td>\n",
       "      <td>0</td>\n",
       "      <td>0</td>\n",
       "      <td>1</td>\n",
       "      <td>1</td>\n",
       "      <td>1</td>\n",
       "      <td>0</td>\n",
       "      <td>1</td>\n",
       "    </tr>\n",
       "    <tr>\n",
       "      <th>3</th>\n",
       "      <td>5</td>\n",
       "      <td>[web, email, mobile]</td>\n",
       "      <td>5</td>\n",
       "      <td>7</td>\n",
       "      <td>bogo</td>\n",
       "      <td>9b98b8c7a33c4b65b9aebfe6a799e6d9</td>\n",
       "      <td>1</td>\n",
       "      <td>0</td>\n",
       "      <td>0</td>\n",
       "      <td>1</td>\n",
       "      <td>1</td>\n",
       "      <td>0</td>\n",
       "      <td>1</td>\n",
       "    </tr>\n",
       "    <tr>\n",
       "      <th>4</th>\n",
       "      <td>5</td>\n",
       "      <td>[web, email]</td>\n",
       "      <td>20</td>\n",
       "      <td>10</td>\n",
       "      <td>discount</td>\n",
       "      <td>0b1e1539f2cc45b7b9fa7c272da2e1d7</td>\n",
       "      <td>0</td>\n",
       "      <td>1</td>\n",
       "      <td>0</td>\n",
       "      <td>1</td>\n",
       "      <td>0</td>\n",
       "      <td>0</td>\n",
       "      <td>1</td>\n",
       "    </tr>\n",
       "  </tbody>\n",
       "</table>\n",
       "</div>"
      ],
      "text/plain": [
       "   reward                      channels  difficulty  duration     offer_type  \\\n",
       "0      10       [email, mobile, social]          10         7           bogo   \n",
       "1      10  [web, email, mobile, social]          10         5           bogo   \n",
       "2       0          [web, email, mobile]           0         4  informational   \n",
       "3       5          [web, email, mobile]           5         7           bogo   \n",
       "4       5                  [web, email]          20        10       discount   \n",
       "\n",
       "                           offer_id  offer_bogo  offer_discount  \\\n",
       "0  ae264e3637204a6fb9bb56bc8210ddfd           1               0   \n",
       "1  4d5c57ea9a6940dd891ad53e9dbe8da0           1               0   \n",
       "2  3f207df678b143eea3cee63160fa8bed           0               0   \n",
       "3  9b98b8c7a33c4b65b9aebfe6a799e6d9           1               0   \n",
       "4  0b1e1539f2cc45b7b9fa7c272da2e1d7           0               1   \n",
       "\n",
       "   offer_informational  channel_email  channel_mobile  channel_social  \\\n",
       "0                    0              1               1               1   \n",
       "1                    0              1               1               1   \n",
       "2                    1              1               1               0   \n",
       "3                    0              1               1               0   \n",
       "4                    0              1               0               0   \n",
       "\n",
       "   channel_web  \n",
       "0            0  \n",
       "1            1  \n",
       "2            1  \n",
       "3            1  \n",
       "4            1  "
      ]
     },
     "execution_count": 9,
     "metadata": {},
     "output_type": "execute_result"
    }
   ],
   "source": [
    "#One-hot encoding thw channels field\n",
    "#Please refer to this post on how to onecode multilabel a column : https://chrisalbon.com/machine_learning/preprocessing_structured_data/one-hot_encode_features_with_multiple_labels\n",
    "\n",
    "#First initialize the MultiBinarizer Object \n",
    "one_hot_channels = MultiLabelBinarizer()\n",
    "\n",
    "#One hot code the portfolio channel data\n",
    "seperate_channel = one_hot_channels.fit_transform(portfolio['channels'])\n",
    "\n",
    "#Making a Dataframe with new channels \n",
    "channels_df = pd.DataFrame(data = seperate_channel, columns = one_hot_channels.classes_)\n",
    "\n",
    "#Concatenating the new columns with the old portfolio DataFrame\n",
    "portfolio = pd.concat([portfolio,channels_df], axis = 1)\n",
    "\n",
    "#Fixing the channels prefix in the column names\n",
    "portfolio.rename(columns = {'email': 'channel_email', 'mobile': 'channel_mobile', 'social': 'channel_social', 'web': 'channel_web'}, inplace = True)\n",
    "\n",
    "#After the changes\n",
    "portfolio.head()"
   ]
  },
  {
   "cell_type": "code",
   "execution_count": 10,
   "metadata": {},
   "outputs": [
    {
     "name": "stdout",
     "output_type": "stream",
     "text": [
      "<class 'pandas.core.frame.DataFrame'>\n",
      "RangeIndex: 10 entries, 0 to 9\n",
      "Data columns (total 11 columns):\n",
      " #   Column               Non-Null Count  Dtype \n",
      "---  ------               --------------  ----- \n",
      " 0   reward               10 non-null     int64 \n",
      " 1   difficulty           10 non-null     int64 \n",
      " 2   duration             10 non-null     int64 \n",
      " 3   offer_id             10 non-null     object\n",
      " 4   offer_bogo           10 non-null     uint8 \n",
      " 5   offer_discount       10 non-null     uint8 \n",
      " 6   offer_informational  10 non-null     uint8 \n",
      " 7   channel_email        10 non-null     int32 \n",
      " 8   channel_mobile       10 non-null     int32 \n",
      " 9   channel_social       10 non-null     int32 \n",
      " 10  channel_web          10 non-null     int32 \n",
      "dtypes: int32(4), int64(3), object(1), uint8(3)\n",
      "memory usage: 638.0+ bytes\n"
     ]
    }
   ],
   "source": [
    "#Dropping the now former 'channels' and 'offer_type' columns\n",
    "portfolio.drop(columns = ['channels', 'offer_type'], axis = 1, inplace = True)\n",
    "\n",
    "#Viewing our hanges\n",
    "portfolio.info()"
   ]
  },
  {
   "cell_type": "markdown",
   "metadata": {},
   "source": [
    "### Profile Dataset\n",
    "\n",
    "##### Initial Analysis"
   ]
  },
  {
   "cell_type": "code",
   "execution_count": 11,
   "metadata": {},
   "outputs": [
    {
     "data": {
      "text/html": [
       "<div>\n",
       "<style scoped>\n",
       "    .dataframe tbody tr th:only-of-type {\n",
       "        vertical-align: middle;\n",
       "    }\n",
       "\n",
       "    .dataframe tbody tr th {\n",
       "        vertical-align: top;\n",
       "    }\n",
       "\n",
       "    .dataframe thead th {\n",
       "        text-align: right;\n",
       "    }\n",
       "</style>\n",
       "<table border=\"1\" class=\"dataframe\">\n",
       "  <thead>\n",
       "    <tr style=\"text-align: right;\">\n",
       "      <th></th>\n",
       "      <th>gender</th>\n",
       "      <th>age</th>\n",
       "      <th>id</th>\n",
       "      <th>became_member_on</th>\n",
       "      <th>income</th>\n",
       "    </tr>\n",
       "  </thead>\n",
       "  <tbody>\n",
       "    <tr>\n",
       "      <th>0</th>\n",
       "      <td>None</td>\n",
       "      <td>118</td>\n",
       "      <td>68be06ca386d4c31939f3a4f0e3dd783</td>\n",
       "      <td>20170212</td>\n",
       "      <td>NaN</td>\n",
       "    </tr>\n",
       "    <tr>\n",
       "      <th>1</th>\n",
       "      <td>F</td>\n",
       "      <td>55</td>\n",
       "      <td>0610b486422d4921ae7d2bf64640c50b</td>\n",
       "      <td>20170715</td>\n",
       "      <td>112000.0</td>\n",
       "    </tr>\n",
       "    <tr>\n",
       "      <th>2</th>\n",
       "      <td>None</td>\n",
       "      <td>118</td>\n",
       "      <td>38fe809add3b4fcf9315a9694bb96ff5</td>\n",
       "      <td>20180712</td>\n",
       "      <td>NaN</td>\n",
       "    </tr>\n",
       "    <tr>\n",
       "      <th>3</th>\n",
       "      <td>F</td>\n",
       "      <td>75</td>\n",
       "      <td>78afa995795e4d85b5d9ceeca43f5fef</td>\n",
       "      <td>20170509</td>\n",
       "      <td>100000.0</td>\n",
       "    </tr>\n",
       "    <tr>\n",
       "      <th>4</th>\n",
       "      <td>None</td>\n",
       "      <td>118</td>\n",
       "      <td>a03223e636434f42ac4c3df47e8bac43</td>\n",
       "      <td>20170804</td>\n",
       "      <td>NaN</td>\n",
       "    </tr>\n",
       "  </tbody>\n",
       "</table>\n",
       "</div>"
      ],
      "text/plain": [
       "  gender  age                                id  became_member_on    income\n",
       "0   None  118  68be06ca386d4c31939f3a4f0e3dd783          20170212       NaN\n",
       "1      F   55  0610b486422d4921ae7d2bf64640c50b          20170715  112000.0\n",
       "2   None  118  38fe809add3b4fcf9315a9694bb96ff5          20180712       NaN\n",
       "3      F   75  78afa995795e4d85b5d9ceeca43f5fef          20170509  100000.0\n",
       "4   None  118  a03223e636434f42ac4c3df47e8bac43          20170804       NaN"
      ]
     },
     "execution_count": 11,
     "metadata": {},
     "output_type": "execute_result"
    }
   ],
   "source": [
    "# Looking at some random rows\n",
    "profile.head() "
   ]
  },
  {
   "cell_type": "code",
   "execution_count": 12,
   "metadata": {},
   "outputs": [
    {
     "name": "stdout",
     "output_type": "stream",
     "text": [
      "<class 'pandas.core.frame.DataFrame'>\n",
      "RangeIndex: 17000 entries, 0 to 16999\n",
      "Data columns (total 5 columns):\n",
      " #   Column            Non-Null Count  Dtype  \n",
      "---  ------            --------------  -----  \n",
      " 0   gender            14825 non-null  object \n",
      " 1   age               17000 non-null  int64  \n",
      " 2   id                17000 non-null  object \n",
      " 3   became_member_on  17000 non-null  int64  \n",
      " 4   income            14825 non-null  float64\n",
      "dtypes: float64(1), int64(2), object(2)\n",
      "memory usage: 664.2+ KB\n"
     ]
    }
   ],
   "source": [
    "profile.info()"
   ]
  },
  {
   "cell_type": "code",
   "execution_count": 13,
   "metadata": {},
   "outputs": [
    {
     "data": {
      "text/plain": [
       "M      8484\n",
       "F      6129\n",
       "NaN    2175\n",
       "O       212\n",
       "Name: gender, dtype: int64"
      ]
     },
     "execution_count": 13,
     "metadata": {},
     "output_type": "execute_result"
    }
   ],
   "source": [
    "#Checking gender types and leaving in the nulls\n",
    "profile['gender'].value_counts(dropna = False)"
   ]
  },
  {
   "cell_type": "code",
   "execution_count": 14,
   "metadata": {},
   "outputs": [
    {
     "data": {
      "text/plain": [
       "2175"
      ]
     },
     "execution_count": 14,
     "metadata": {},
     "output_type": "execute_result"
    }
   ],
   "source": [
    "#Checking how many unknown ages (118) are in the dataset\n",
    "(profile['age'] == 118).sum()"
   ]
  },
  {
   "cell_type": "markdown",
   "metadata": {},
   "source": [
    "\n",
    "##### Profile Clean Up\n",
    "\n",
    "Because this dataset is bigger, we'll have to make some more changes to it than our previous datasets. These changes include the following:\n",
    "\n",
    "- Dropping rows with null information\n",
    "- Changing 'id' column to 'customer_id' name\n",
    "- Changing the 'became_member_on' column to a date object type\n",
    "- Calculating number of days that a person has been a member as new 'days_as_member' column as of August 1, 2018\n",
    "- Creating new 'age_range' column based on 'age'\n",
    "\n"
   ]
  },
  {
   "cell_type": "code",
   "execution_count": 15,
   "metadata": {},
   "outputs": [
    {
     "name": "stdout",
     "output_type": "stream",
     "text": [
      "<class 'pandas.core.frame.DataFrame'>\n",
      "Int64Index: 14825 entries, 1 to 16999\n",
      "Data columns (total 5 columns):\n",
      " #   Column            Non-Null Count  Dtype  \n",
      "---  ------            --------------  -----  \n",
      " 0   gender            14825 non-null  object \n",
      " 1   age               14825 non-null  int64  \n",
      " 2   id                14825 non-null  object \n",
      " 3   became_member_on  14825 non-null  int64  \n",
      " 4   income            14825 non-null  float64\n",
      "dtypes: float64(1), int64(2), object(2)\n",
      "memory usage: 694.9+ KB\n"
     ]
    }
   ],
   "source": [
    "#Dropping rows with null information\n",
    "profile.dropna(inplace = True)\n",
    "profile.info()"
   ]
  },
  {
   "cell_type": "code",
   "execution_count": 16,
   "metadata": {
    "scrolled": true
   },
   "outputs": [
    {
     "name": "stdout",
     "output_type": "stream",
     "text": [
      "<class 'pandas.core.frame.DataFrame'>\n",
      "Int64Index: 14825 entries, 1 to 16999\n",
      "Data columns (total 5 columns):\n",
      " #   Column            Non-Null Count  Dtype  \n",
      "---  ------            --------------  -----  \n",
      " 0   gender            14825 non-null  object \n",
      " 1   age               14825 non-null  int64  \n",
      " 2   customer_id       14825 non-null  object \n",
      " 3   became_member_on  14825 non-null  int64  \n",
      " 4   income            14825 non-null  float64\n",
      "dtypes: float64(1), int64(2), object(2)\n",
      "memory usage: 694.9+ KB\n"
     ]
    }
   ],
   "source": [
    "#Changing 'id' column name to more appropriate 'customer_id' name\n",
    "profile.rename(columns = {'id': 'customer_id'}, inplace = True)\n",
    "profile.info()"
   ]
  },
  {
   "cell_type": "code",
   "execution_count": 17,
   "metadata": {},
   "outputs": [
    {
     "data": {
      "text/plain": [
       "1     2017-07-15\n",
       "3     2017-05-09\n",
       "5     2018-04-26\n",
       "8     2018-02-09\n",
       "12    2017-11-11\n",
       "Name: became_member_on, dtype: object"
      ]
     },
     "execution_count": 17,
     "metadata": {},
     "output_type": "execute_result"
    }
   ],
   "source": [
    "#Changing 'became_member_on' column to a date type\n",
    "profile['became_member_on'] = profile['became_member_on'].apply(lambda x: datetime.datetime.strptime(str(x), '%Y%m%d').date())\n",
    "profile['became_member_on'].head()"
   ]
  },
  {
   "cell_type": "code",
   "execution_count": 18,
   "metadata": {},
   "outputs": [
    {
     "data": {
      "text/plain": [
       "1      382\n",
       "3      449\n",
       "5       97\n",
       "8      173\n",
       "12     263\n",
       "13     324\n",
       "14    1630\n",
       "15     902\n",
       "16    1357\n",
       "18     213\n",
       "Name: days_as_member, dtype: int64"
      ]
     },
     "execution_count": 18,
     "metadata": {},
     "output_type": "execute_result"
    }
   ],
   "source": [
    "#Calculating number of days as a member ending on August 1,2018 in new column 'days_as_member'\n",
    "#This stackoverflow post explains clearly how to calculated the number of days elapsed since a certain date \n",
    "end_date = pd.Timestamp('2018-08-01')\n",
    "end_date = pd.to_datetime(end_date)\n",
    "profile['days_as_member'] = np.abs((pd.to_datetime(profile['became_member_on']) - end_date).dt.days)\n",
    "\n",
    "#Lets see the changes in the profile datsets \n",
    "profile['days_as_member'].head(10)"
   ]
  },
  {
   "cell_type": "code",
   "execution_count": 19,
   "metadata": {},
   "outputs": [
    {
     "data": {
      "text/html": [
       "<div>\n",
       "<style scoped>\n",
       "    .dataframe tbody tr th:only-of-type {\n",
       "        vertical-align: middle;\n",
       "    }\n",
       "\n",
       "    .dataframe tbody tr th {\n",
       "        vertical-align: top;\n",
       "    }\n",
       "\n",
       "    .dataframe thead th {\n",
       "        text-align: right;\n",
       "    }\n",
       "</style>\n",
       "<table border=\"1\" class=\"dataframe\">\n",
       "  <thead>\n",
       "    <tr style=\"text-align: right;\">\n",
       "      <th></th>\n",
       "      <th>gender</th>\n",
       "      <th>age</th>\n",
       "      <th>customer_id</th>\n",
       "      <th>became_member_on</th>\n",
       "      <th>income</th>\n",
       "      <th>days_as_member</th>\n",
       "      <th>age_range</th>\n",
       "    </tr>\n",
       "  </thead>\n",
       "  <tbody>\n",
       "    <tr>\n",
       "      <th>6778</th>\n",
       "      <td>M</td>\n",
       "      <td>71</td>\n",
       "      <td>83cd960ba3094a70a854aaca8232510b</td>\n",
       "      <td>2018-01-25</td>\n",
       "      <td>39000.0</td>\n",
       "      <td>188</td>\n",
       "      <td>70-79</td>\n",
       "    </tr>\n",
       "    <tr>\n",
       "      <th>12453</th>\n",
       "      <td>F</td>\n",
       "      <td>70</td>\n",
       "      <td>95e0cad7dc6d4c8cbeb09629d9c1b6b7</td>\n",
       "      <td>2016-07-10</td>\n",
       "      <td>57000.0</td>\n",
       "      <td>752</td>\n",
       "      <td>70-79</td>\n",
       "    </tr>\n",
       "    <tr>\n",
       "      <th>16139</th>\n",
       "      <td>M</td>\n",
       "      <td>47</td>\n",
       "      <td>9fcbff4f8d7241faa4ab8a9d19c8a812</td>\n",
       "      <td>2017-10-13</td>\n",
       "      <td>94000.0</td>\n",
       "      <td>292</td>\n",
       "      <td>40-49</td>\n",
       "    </tr>\n",
       "    <tr>\n",
       "      <th>8709</th>\n",
       "      <td>M</td>\n",
       "      <td>47</td>\n",
       "      <td>1320d4d9ff6c47e18ed75785d7569137</td>\n",
       "      <td>2016-08-04</td>\n",
       "      <td>41000.0</td>\n",
       "      <td>727</td>\n",
       "      <td>40-49</td>\n",
       "    </tr>\n",
       "    <tr>\n",
       "      <th>7445</th>\n",
       "      <td>M</td>\n",
       "      <td>62</td>\n",
       "      <td>a024732dd4f14bb28d2292422371fec2</td>\n",
       "      <td>2015-09-11</td>\n",
       "      <td>56000.0</td>\n",
       "      <td>1055</td>\n",
       "      <td>60-69</td>\n",
       "    </tr>\n",
       "  </tbody>\n",
       "</table>\n",
       "</div>"
      ],
      "text/plain": [
       "      gender  age                       customer_id became_member_on   income  \\\n",
       "6778       M   71  83cd960ba3094a70a854aaca8232510b       2018-01-25  39000.0   \n",
       "12453      F   70  95e0cad7dc6d4c8cbeb09629d9c1b6b7       2016-07-10  57000.0   \n",
       "16139      M   47  9fcbff4f8d7241faa4ab8a9d19c8a812       2017-10-13  94000.0   \n",
       "8709       M   47  1320d4d9ff6c47e18ed75785d7569137       2016-08-04  41000.0   \n",
       "7445       M   62  a024732dd4f14bb28d2292422371fec2       2015-09-11  56000.0   \n",
       "\n",
       "       days_as_member age_range  \n",
       "6778              188     70-79  \n",
       "12453             752     70-79  \n",
       "16139             292     40-49  \n",
       "8709              727     40-49  \n",
       "7445             1055     60-69  "
      ]
     },
     "execution_count": 19,
     "metadata": {},
     "output_type": "execute_result"
    }
   ],
   "source": [
    "#Making an age-range column based on age\n",
    "#Checkout this stack overflow article for categorising age columns: https://stackoverflow.com/questions/26072087/pandas-number-of-days-elapsed-since-a-certain-date\n",
    "age_bins = [11, 20, 30, 40, 50, 60, 70, 80, 110]\n",
    "age_range_labels = ['11-19','20-29','30-39','40-49','50-59','60-69','70-79','80+']\n",
    "profile['age_range'] = pd.cut(profile['age'],bins = age_bins,labels = age_range_labels, right = False)\n",
    "\n",
    "#Lets add an order to the age_range\n",
    "#You can checkout this post for refrence for catgorsing the age range in order: https://pandas.pydata.org/pandas-docs/stable/reference/api/pandas.Categorical.html\n",
    "profile['age_range'] = pd.Categorical(profile['age_range'], ordered=True, categories = age_range_labels)\n",
    "\n",
    "#After the Changes\n",
    "profile.sample(5)"
   ]
  },
  {
   "cell_type": "markdown",
   "metadata": {},
   "source": [
    "##### Transcript Dataset\n",
    "\n",
    "Initial Analysis"
   ]
  },
  {
   "cell_type": "code",
   "execution_count": 20,
   "metadata": {},
   "outputs": [
    {
     "ename": "TypeError",
     "evalue": "unhashable type: 'dict'",
     "output_type": "error",
     "traceback": [
      "\u001b[1;31m---------------------------------------------------------------------------\u001b[0m",
      "\u001b[1;31mTypeError\u001b[0m                                 Traceback (most recent call last)",
      "\u001b[1;32mpandas\\_libs\\hashtable_class_helper.pxi\u001b[0m in \u001b[0;36mpandas._libs.hashtable.PyObjectHashTable.map_locations\u001b[1;34m()\u001b[0m\n",
      "\u001b[1;31mTypeError\u001b[0m: unhashable type: 'dict'"
     ]
    },
    {
     "name": "stderr",
     "output_type": "stream",
     "text": [
      "Exception ignored in: 'pandas._libs.index.IndexEngine._call_map_locations'\n",
      "Traceback (most recent call last):\n",
      "  File \"pandas\\_libs\\hashtable_class_helper.pxi\", line 4588, in pandas._libs.hashtable.PyObjectHashTable.map_locations\n",
      "TypeError: unhashable type: 'dict'\n"
     ]
    },
    {
     "data": {
      "text/plain": [
       "{'offer id': '2298d6c36e964ae4a3e7e9706d1fb8c2'}    14983\n",
       "{'offer id': 'fafdcd668e3743c1bb461111dcafc2a4'}    14924\n",
       "{'offer id': '4d5c57ea9a6940dd891ad53e9dbe8da0'}    14891\n",
       "{'offer id': 'f19421c1d4aa40978ebb69ca19b0e20d'}    14835\n",
       "{'offer id': 'ae264e3637204a6fb9bb56bc8210ddfd'}    14374\n",
       "                                                    ...  \n",
       "{'amount': 91.89}                                       1\n",
       "{'amount': 40.62}                                       1\n",
       "{'amount': 42.73}                                       1\n",
       "{'amount': 344.27}                                      1\n",
       "{'amount': 46.87}                                       1\n",
       "Name: value, Length: 5121, dtype: int64"
      ]
     },
     "execution_count": 20,
     "metadata": {},
     "output_type": "execute_result"
    }
   ],
   "source": [
    "#Let take a look at the transcript dataset\n",
    "transcript['value'].value_counts()"
   ]
  },
  {
   "cell_type": "code",
   "execution_count": 21,
   "metadata": {},
   "outputs": [
    {
     "name": "stdout",
     "output_type": "stream",
     "text": [
      "<class 'pandas.core.frame.DataFrame'>\n",
      "RangeIndex: 306534 entries, 0 to 306533\n",
      "Data columns (total 4 columns):\n",
      " #   Column  Non-Null Count   Dtype \n",
      "---  ------  --------------   ----- \n",
      " 0   person  306534 non-null  object\n",
      " 1   event   306534 non-null  object\n",
      " 2   value   306534 non-null  object\n",
      " 3   time    306534 non-null  int64 \n",
      "dtypes: int64(1), object(3)\n",
      "memory usage: 9.4+ MB\n"
     ]
    }
   ],
   "source": [
    "#Checking the information of the transcript for null values and datatypes\n",
    "transcript.info()"
   ]
  },
  {
   "cell_type": "code",
   "execution_count": 22,
   "metadata": {},
   "outputs": [
    {
     "data": {
      "text/plain": [
       "transaction        138953\n",
       "offer received      76277\n",
       "offer viewed        57725\n",
       "offer completed     33579\n",
       "Name: event, dtype: int64"
      ]
     },
     "execution_count": 22,
     "metadata": {},
     "output_type": "execute_result"
    }
   ],
   "source": [
    "#Checking the transcript for data types\n",
    "transcript['event'].value_counts()"
   ]
  },
  {
   "cell_type": "markdown",
   "metadata": {},
   "source": [
    "### Transcript Clean Up\n",
    "- Change name of 'person' column to 'customer_id'\n",
    "- Remove customers that are not reflected in the 'profile' dataset\n",
    "- One hot encode the 'event' values\n",
    "- Change 'time' column to 'days' along with the appropriate values\n",
    "- Seperate value from key in 'value' dictionary to form two new DataFrames: transcript_offer and transcript_amount\n"
   ]
  },
  {
   "cell_type": "code",
   "execution_count": 23,
   "metadata": {},
   "outputs": [
    {
     "data": {
      "text/html": [
       "<div>\n",
       "<style scoped>\n",
       "    .dataframe tbody tr th:only-of-type {\n",
       "        vertical-align: middle;\n",
       "    }\n",
       "\n",
       "    .dataframe tbody tr th {\n",
       "        vertical-align: top;\n",
       "    }\n",
       "\n",
       "    .dataframe thead th {\n",
       "        text-align: right;\n",
       "    }\n",
       "</style>\n",
       "<table border=\"1\" class=\"dataframe\">\n",
       "  <thead>\n",
       "    <tr style=\"text-align: right;\">\n",
       "      <th></th>\n",
       "      <th>person</th>\n",
       "      <th>event</th>\n",
       "      <th>value</th>\n",
       "      <th>time</th>\n",
       "    </tr>\n",
       "  </thead>\n",
       "  <tbody>\n",
       "    <tr>\n",
       "      <th>79702</th>\n",
       "      <td>45c24e5049954c21a4036de66ab1ee24</td>\n",
       "      <td>transaction</td>\n",
       "      <td>{'amount': 2.75}</td>\n",
       "      <td>198</td>\n",
       "    </tr>\n",
       "    <tr>\n",
       "      <th>2496</th>\n",
       "      <td>11edb6a7da284f19a8a1da5e7c0c9652</td>\n",
       "      <td>offer received</td>\n",
       "      <td>{'offer id': '4d5c57ea9a6940dd891ad53e9dbe8da0'}</td>\n",
       "      <td>0</td>\n",
       "    </tr>\n",
       "    <tr>\n",
       "      <th>304251</th>\n",
       "      <td>b7e2d5ab4ab24229bf1aa74f2b2eeb4d</td>\n",
       "      <td>offer completed</td>\n",
       "      <td>{'offer_id': '2906b810c7d4411798c6938adc9daaa5...</td>\n",
       "      <td>702</td>\n",
       "    </tr>\n",
       "    <tr>\n",
       "      <th>305865</th>\n",
       "      <td>ffc77312ccda49fca19506f1cdf44923</td>\n",
       "      <td>transaction</td>\n",
       "      <td>{'amount': 1.65}</td>\n",
       "      <td>714</td>\n",
       "    </tr>\n",
       "    <tr>\n",
       "      <th>271158</th>\n",
       "      <td>d5a7f83fb3ec4c9983d1c55364eb87c4</td>\n",
       "      <td>transaction</td>\n",
       "      <td>{'amount': 18.86}</td>\n",
       "      <td>594</td>\n",
       "    </tr>\n",
       "    <tr>\n",
       "      <th>1858</th>\n",
       "      <td>526338768a7c454788df15d68766a35f</td>\n",
       "      <td>offer received</td>\n",
       "      <td>{'offer id': 'ae264e3637204a6fb9bb56bc8210ddfd'}</td>\n",
       "      <td>0</td>\n",
       "    </tr>\n",
       "    <tr>\n",
       "      <th>5644</th>\n",
       "      <td>650d5ff0145c46fe992689c137c79b02</td>\n",
       "      <td>offer received</td>\n",
       "      <td>{'offer id': '2298d6c36e964ae4a3e7e9706d1fb8c2'}</td>\n",
       "      <td>0</td>\n",
       "    </tr>\n",
       "    <tr>\n",
       "      <th>236189</th>\n",
       "      <td>ec8a12c9d36142efbff26a115fcc491d</td>\n",
       "      <td>transaction</td>\n",
       "      <td>{'amount': 1.69}</td>\n",
       "      <td>546</td>\n",
       "    </tr>\n",
       "    <tr>\n",
       "      <th>48105</th>\n",
       "      <td>6652c51fcf5d4f56a6a8c43140781f98</td>\n",
       "      <td>transaction</td>\n",
       "      <td>{'amount': 23.31}</td>\n",
       "      <td>132</td>\n",
       "    </tr>\n",
       "    <tr>\n",
       "      <th>9256</th>\n",
       "      <td>01772eae932447f9a853461a60820dc6</td>\n",
       "      <td>offer received</td>\n",
       "      <td>{'offer id': 'f19421c1d4aa40978ebb69ca19b0e20d'}</td>\n",
       "      <td>0</td>\n",
       "    </tr>\n",
       "  </tbody>\n",
       "</table>\n",
       "</div>"
      ],
      "text/plain": [
       "                                  person            event  \\\n",
       "79702   45c24e5049954c21a4036de66ab1ee24      transaction   \n",
       "2496    11edb6a7da284f19a8a1da5e7c0c9652   offer received   \n",
       "304251  b7e2d5ab4ab24229bf1aa74f2b2eeb4d  offer completed   \n",
       "305865  ffc77312ccda49fca19506f1cdf44923      transaction   \n",
       "271158  d5a7f83fb3ec4c9983d1c55364eb87c4      transaction   \n",
       "1858    526338768a7c454788df15d68766a35f   offer received   \n",
       "5644    650d5ff0145c46fe992689c137c79b02   offer received   \n",
       "236189  ec8a12c9d36142efbff26a115fcc491d      transaction   \n",
       "48105   6652c51fcf5d4f56a6a8c43140781f98      transaction   \n",
       "9256    01772eae932447f9a853461a60820dc6   offer received   \n",
       "\n",
       "                                                    value  time  \n",
       "79702                                    {'amount': 2.75}   198  \n",
       "2496     {'offer id': '4d5c57ea9a6940dd891ad53e9dbe8da0'}     0  \n",
       "304251  {'offer_id': '2906b810c7d4411798c6938adc9daaa5...   702  \n",
       "305865                                   {'amount': 1.65}   714  \n",
       "271158                                  {'amount': 18.86}   594  \n",
       "1858     {'offer id': 'ae264e3637204a6fb9bb56bc8210ddfd'}     0  \n",
       "5644     {'offer id': '2298d6c36e964ae4a3e7e9706d1fb8c2'}     0  \n",
       "236189                                   {'amount': 1.69}   546  \n",
       "48105                                   {'amount': 23.31}   132  \n",
       "9256     {'offer id': 'f19421c1d4aa40978ebb69ca19b0e20d'}     0  "
      ]
     },
     "execution_count": 23,
     "metadata": {},
     "output_type": "execute_result"
    }
   ],
   "source": [
    "transcript.sample(10)"
   ]
  },
  {
   "cell_type": "code",
   "execution_count": 24,
   "metadata": {},
   "outputs": [
    {
     "name": "stdout",
     "output_type": "stream",
     "text": [
      "<class 'pandas.core.frame.DataFrame'>\n",
      "RangeIndex: 306534 entries, 0 to 306533\n",
      "Data columns (total 4 columns):\n",
      " #   Column       Non-Null Count   Dtype \n",
      "---  ------       --------------   ----- \n",
      " 0   customer_id  306534 non-null  object\n",
      " 1   event        306534 non-null  object\n",
      " 2   value        306534 non-null  object\n",
      " 3   time         306534 non-null  int64 \n",
      "dtypes: int64(1), object(3)\n",
      "memory usage: 9.4+ MB\n"
     ]
    }
   ],
   "source": [
    "#Changing the 'person' Category name to 'customer-id'\n",
    "transcript.rename(columns = {'person':'customer_id'}, inplace = True)\n",
    "transcript.info()"
   ]
  },
  {
   "cell_type": "code",
   "execution_count": 25,
   "metadata": {},
   "outputs": [
    {
     "name": "stdout",
     "output_type": "stream",
     "text": [
      "<class 'pandas.core.frame.DataFrame'>\n",
      "Int64Index: 272762 entries, 0 to 272761\n",
      "Data columns (total 4 columns):\n",
      " #   Column       Non-Null Count   Dtype \n",
      "---  ------       --------------   ----- \n",
      " 0   customer_id  272762 non-null  object\n",
      " 1   event        272762 non-null  object\n",
      " 2   value        272762 non-null  object\n",
      " 3   time         272762 non-null  int64 \n",
      "dtypes: int64(1), object(3)\n",
      "memory usage: 10.4+ MB\n"
     ]
    }
   ],
   "source": [
    "#Remove customers not found in the 'profile dataset\n",
    "#Checkout this post on merge data: https://datacarpentry.org/python-ecology-lesson/05-merging-data/\n",
    "transcript = pd.merge(left = transcript, right = profile, how = 'inner', left_on = 'customer_id', right_on = 'customer_id')\n",
    "transcript.drop(columns = ['age', 'became_member_on', 'gender', 'income', 'days_as_member', 'age_range'], inplace = True)\n",
    "\n",
    "#After results\n",
    "transcript.info()"
   ]
  },
  {
   "cell_type": "code",
   "execution_count": 26,
   "metadata": {},
   "outputs": [
    {
     "data": {
      "text/html": [
       "<div>\n",
       "<style scoped>\n",
       "    .dataframe tbody tr th:only-of-type {\n",
       "        vertical-align: middle;\n",
       "    }\n",
       "\n",
       "    .dataframe tbody tr th {\n",
       "        vertical-align: top;\n",
       "    }\n",
       "\n",
       "    .dataframe thead th {\n",
       "        text-align: right;\n",
       "    }\n",
       "</style>\n",
       "<table border=\"1\" class=\"dataframe\">\n",
       "  <thead>\n",
       "    <tr style=\"text-align: right;\">\n",
       "      <th></th>\n",
       "      <th>customer_id</th>\n",
       "      <th>event</th>\n",
       "      <th>value</th>\n",
       "      <th>time</th>\n",
       "      <th>offer_completed</th>\n",
       "      <th>offer_received</th>\n",
       "      <th>offer_viewed</th>\n",
       "      <th>transaction</th>\n",
       "    </tr>\n",
       "  </thead>\n",
       "  <tbody>\n",
       "    <tr>\n",
       "      <th>0</th>\n",
       "      <td>78afa995795e4d85b5d9ceeca43f5fef</td>\n",
       "      <td>offer received</td>\n",
       "      <td>{'offer id': '9b98b8c7a33c4b65b9aebfe6a799e6d9'}</td>\n",
       "      <td>0</td>\n",
       "      <td>0</td>\n",
       "      <td>1</td>\n",
       "      <td>0</td>\n",
       "      <td>0</td>\n",
       "    </tr>\n",
       "    <tr>\n",
       "      <th>1</th>\n",
       "      <td>78afa995795e4d85b5d9ceeca43f5fef</td>\n",
       "      <td>offer viewed</td>\n",
       "      <td>{'offer id': '9b98b8c7a33c4b65b9aebfe6a799e6d9'}</td>\n",
       "      <td>6</td>\n",
       "      <td>0</td>\n",
       "      <td>0</td>\n",
       "      <td>1</td>\n",
       "      <td>0</td>\n",
       "    </tr>\n",
       "    <tr>\n",
       "      <th>2</th>\n",
       "      <td>78afa995795e4d85b5d9ceeca43f5fef</td>\n",
       "      <td>transaction</td>\n",
       "      <td>{'amount': 19.89}</td>\n",
       "      <td>132</td>\n",
       "      <td>0</td>\n",
       "      <td>0</td>\n",
       "      <td>0</td>\n",
       "      <td>1</td>\n",
       "    </tr>\n",
       "    <tr>\n",
       "      <th>3</th>\n",
       "      <td>78afa995795e4d85b5d9ceeca43f5fef</td>\n",
       "      <td>offer completed</td>\n",
       "      <td>{'offer_id': '9b98b8c7a33c4b65b9aebfe6a799e6d9...</td>\n",
       "      <td>132</td>\n",
       "      <td>1</td>\n",
       "      <td>0</td>\n",
       "      <td>0</td>\n",
       "      <td>0</td>\n",
       "    </tr>\n",
       "    <tr>\n",
       "      <th>4</th>\n",
       "      <td>78afa995795e4d85b5d9ceeca43f5fef</td>\n",
       "      <td>transaction</td>\n",
       "      <td>{'amount': 17.78}</td>\n",
       "      <td>144</td>\n",
       "      <td>0</td>\n",
       "      <td>0</td>\n",
       "      <td>0</td>\n",
       "      <td>1</td>\n",
       "    </tr>\n",
       "  </tbody>\n",
       "</table>\n",
       "</div>"
      ],
      "text/plain": [
       "                        customer_id            event  \\\n",
       "0  78afa995795e4d85b5d9ceeca43f5fef   offer received   \n",
       "1  78afa995795e4d85b5d9ceeca43f5fef     offer viewed   \n",
       "2  78afa995795e4d85b5d9ceeca43f5fef      transaction   \n",
       "3  78afa995795e4d85b5d9ceeca43f5fef  offer completed   \n",
       "4  78afa995795e4d85b5d9ceeca43f5fef      transaction   \n",
       "\n",
       "                                               value  time  offer_completed  \\\n",
       "0   {'offer id': '9b98b8c7a33c4b65b9aebfe6a799e6d9'}     0                0   \n",
       "1   {'offer id': '9b98b8c7a33c4b65b9aebfe6a799e6d9'}     6                0   \n",
       "2                                  {'amount': 19.89}   132                0   \n",
       "3  {'offer_id': '9b98b8c7a33c4b65b9aebfe6a799e6d9...   132                1   \n",
       "4                                  {'amount': 17.78}   144                0   \n",
       "\n",
       "   offer_received  offer_viewed  transaction  \n",
       "0               1             0            0  \n",
       "1               0             1            0  \n",
       "2               0             0            1  \n",
       "3               0             0            0  \n",
       "4               0             0            1  "
      ]
     },
     "execution_count": 26,
     "metadata": {},
     "output_type": "execute_result"
    }
   ],
   "source": [
    "#Lets say encode the 'event' values\n",
    "#refer to this stack overflow article for get_dummies: https://pandas.pydata.org/pandas-docs/stable/reference/api/pandas.get_dummies.html\n",
    "event_dummies = pd.get_dummies(transcript['event'])\n",
    "event_dummies.rename(columns = {'offer completed': 'offer_completed','offer received': 'offer_received', 'offer viewed': 'offer_viewed'}, inplace = True)\n",
    "transcript = pd.concat([transcript,event_dummies],axis = 1)\n",
    "transcript.head()"
   ]
  },
  {
   "cell_type": "code",
   "execution_count": 27,
   "metadata": {},
   "outputs": [
    {
     "name": "stdout",
     "output_type": "stream",
     "text": [
      "<class 'pandas.core.frame.DataFrame'>\n",
      "Int64Index: 272762 entries, 0 to 272761\n",
      "Data columns (total 8 columns):\n",
      " #   Column           Non-Null Count   Dtype  \n",
      "---  ------           --------------   -----  \n",
      " 0   customer_id      272762 non-null  object \n",
      " 1   event            272762 non-null  object \n",
      " 2   value            272762 non-null  object \n",
      " 3   offer_completed  272762 non-null  uint8  \n",
      " 4   offer_received   272762 non-null  uint8  \n",
      " 5   offer_viewed     272762 non-null  uint8  \n",
      " 6   transaction      272762 non-null  uint8  \n",
      " 7   days             272762 non-null  float64\n",
      "dtypes: float64(1), object(3), uint8(4)\n",
      "memory usage: 11.4+ MB\n"
     ]
    }
   ],
   "source": [
    "#changing the 'time' column to 'days' \n",
    "transcript['days'] = transcript['time']/24\n",
    "transcript.drop(columns = ['time'], inplace = True)\n",
    "transcript.info()"
   ]
  },
  {
   "cell_type": "code",
   "execution_count": 28,
   "metadata": {},
   "outputs": [
    {
     "name": "stderr",
     "output_type": "stream",
     "text": [
      "C:\\Users\\HP\\Anaconda3\\lib\\site-packages\\pandas\\core\\frame.py:4446: SettingWithCopyWarning: \n",
      "A value is trying to be set on a copy of a slice from a DataFrame\n",
      "\n",
      "See the caveats in the documentation: https://pandas.pydata.org/pandas-docs/stable/user_guide/indexing.html#returning-a-view-versus-a-copy\n",
      "  errors=errors,\n",
      "C:\\Users\\HP\\Anaconda3\\lib\\site-packages\\pandas\\core\\frame.py:4312: SettingWithCopyWarning: \n",
      "A value is trying to be set on a copy of a slice from a DataFrame\n",
      "\n",
      "See the caveats in the documentation: https://pandas.pydata.org/pandas-docs/stable/user_guide/indexing.html#returning-a-view-versus-a-copy\n",
      "  errors=errors,\n"
     ]
    },
    {
     "data": {
      "text/html": [
       "<div>\n",
       "<style scoped>\n",
       "    .dataframe tbody tr th:only-of-type {\n",
       "        vertical-align: middle;\n",
       "    }\n",
       "\n",
       "    .dataframe tbody tr th {\n",
       "        vertical-align: top;\n",
       "    }\n",
       "\n",
       "    .dataframe thead th {\n",
       "        text-align: right;\n",
       "    }\n",
       "</style>\n",
       "<table border=\"1\" class=\"dataframe\">\n",
       "  <thead>\n",
       "    <tr style=\"text-align: right;\">\n",
       "      <th></th>\n",
       "      <th>customer_id</th>\n",
       "      <th>transaction</th>\n",
       "      <th>days</th>\n",
       "      <th>amount</th>\n",
       "    </tr>\n",
       "  </thead>\n",
       "  <tbody>\n",
       "    <tr>\n",
       "      <th>2</th>\n",
       "      <td>78afa995795e4d85b5d9ceeca43f5fef</td>\n",
       "      <td>1</td>\n",
       "      <td>5.50</td>\n",
       "      <td>19.89</td>\n",
       "    </tr>\n",
       "    <tr>\n",
       "      <th>4</th>\n",
       "      <td>78afa995795e4d85b5d9ceeca43f5fef</td>\n",
       "      <td>1</td>\n",
       "      <td>6.00</td>\n",
       "      <td>17.78</td>\n",
       "    </tr>\n",
       "    <tr>\n",
       "      <th>7</th>\n",
       "      <td>78afa995795e4d85b5d9ceeca43f5fef</td>\n",
       "      <td>1</td>\n",
       "      <td>9.25</td>\n",
       "      <td>19.67</td>\n",
       "    </tr>\n",
       "    <tr>\n",
       "      <th>8</th>\n",
       "      <td>78afa995795e4d85b5d9ceeca43f5fef</td>\n",
       "      <td>1</td>\n",
       "      <td>10.00</td>\n",
       "      <td>29.72</td>\n",
       "    </tr>\n",
       "    <tr>\n",
       "      <th>9</th>\n",
       "      <td>78afa995795e4d85b5d9ceeca43f5fef</td>\n",
       "      <td>1</td>\n",
       "      <td>15.75</td>\n",
       "      <td>23.93</td>\n",
       "    </tr>\n",
       "    <tr>\n",
       "      <th>13</th>\n",
       "      <td>78afa995795e4d85b5d9ceeca43f5fef</td>\n",
       "      <td>1</td>\n",
       "      <td>21.25</td>\n",
       "      <td>21.72</td>\n",
       "    </tr>\n",
       "    <tr>\n",
       "      <th>16</th>\n",
       "      <td>78afa995795e4d85b5d9ceeca43f5fef</td>\n",
       "      <td>1</td>\n",
       "      <td>22.25</td>\n",
       "      <td>26.56</td>\n",
       "    </tr>\n",
       "    <tr>\n",
       "      <th>20</th>\n",
       "      <td>e2127556f4f64592b11af22de27a7932</td>\n",
       "      <td>1</td>\n",
       "      <td>12.00</td>\n",
       "      <td>17.88</td>\n",
       "    </tr>\n",
       "    <tr>\n",
       "      <th>21</th>\n",
       "      <td>e2127556f4f64592b11af22de27a7932</td>\n",
       "      <td>1</td>\n",
       "      <td>12.25</td>\n",
       "      <td>21.43</td>\n",
       "    </tr>\n",
       "    <tr>\n",
       "      <th>27</th>\n",
       "      <td>e2127556f4f64592b11af22de27a7932</td>\n",
       "      <td>1</td>\n",
       "      <td>21.75</td>\n",
       "      <td>18.42</td>\n",
       "    </tr>\n",
       "  </tbody>\n",
       "</table>\n",
       "</div>"
      ],
      "text/plain": [
       "                         customer_id  transaction   days amount\n",
       "2   78afa995795e4d85b5d9ceeca43f5fef            1   5.50  19.89\n",
       "4   78afa995795e4d85b5d9ceeca43f5fef            1   6.00  17.78\n",
       "7   78afa995795e4d85b5d9ceeca43f5fef            1   9.25  19.67\n",
       "8   78afa995795e4d85b5d9ceeca43f5fef            1  10.00  29.72\n",
       "9   78afa995795e4d85b5d9ceeca43f5fef            1  15.75  23.93\n",
       "13  78afa995795e4d85b5d9ceeca43f5fef            1  21.25  21.72\n",
       "16  78afa995795e4d85b5d9ceeca43f5fef            1  22.25  26.56\n",
       "20  e2127556f4f64592b11af22de27a7932            1  12.00  17.88\n",
       "21  e2127556f4f64592b11af22de27a7932            1  12.25  21.43\n",
       "27  e2127556f4f64592b11af22de27a7932            1  21.75  18.42"
      ]
     },
     "execution_count": 28,
     "metadata": {},
     "output_type": "execute_result"
    }
   ],
   "source": [
    "#Form two new DataFrame using the keys and values from the value column: transcript_offer and transcript_amount\n",
    "#Refer to this stack overflow article on how to extract the dictionary value from column in data-frame: https://stackoverflow.com/questions/35711059/extract-dictionary-value-from-column-in-data-frame\n",
    "\n",
    "#Initial seperation\n",
    "transcript['offer-or-amount'] = transcript['value'].apply(lambda x : list(x.keys())[0])\n",
    "transcript['id-or-amount'] = transcript['value'].apply(lambda x : list(x.values())[0])\n",
    "\n",
    "#Correcting for all instances 'offer id' to read 'offer_id' consisently\n",
    "trans_offer_dict = {'offer id': 'offer_id'}\n",
    "transcript['offer-or-amount'].replace(trans_offer_dict, inplace = True)\n",
    "\n",
    "#Making the transcript offer DataFrame \n",
    "transcript_offer = transcript[transcript['offer-or-amount'] == 'offer_id']\n",
    "transcript_offer.rename(columns = {'id-or-amount': 'offer_id'}, inplace = True)\n",
    "transcript_offer.drop(columns = ['event','value', 'offer-or-amount', 'transaction'], inplace = True)\n",
    "\n",
    "#Making the transcript amount DataFrame\n",
    "transcript_amount = transcript[transcript['offer-or-amount'] == 'amount']\n",
    "transcript_amount.rename(columns = {'id-or-amount':'amount'}, inplace = True)\n",
    "transcript_amount.drop(columns = ['event','value', 'offer-or-amount', 'offer_completed', 'offer_received', 'offer_viewed'], inplace = True)\n",
    "\n",
    "transcript_amount.head(10)\n"
   ]
  },
  {
   "cell_type": "markdown",
   "metadata": {},
   "source": [
    "### Exploratory Data Analysis\n",
    "\n",
    "Since we have done an initial analysis and cleaning. We are going to do a more formal analysis to see how we might need top pre-process our data even further down in formal data pre-processing. \n",
    "We will break down what the data actually refelcts"
   ]
  },
  {
   "cell_type": "code",
   "execution_count": 29,
   "metadata": {},
   "outputs": [],
   "source": [
    "#Initializing my preferred color choices\n",
    "my_crimson_color =  '#DC143C'\n",
    "my_blue_color = '#0000FF'"
   ]
  },
  {
   "cell_type": "markdown",
   "metadata": {},
   "source": [
    "### Q1:LETS CHECK OUT THE AGE RANGES OF OUR CUSTOMERS?\n",
    "Given that young people anedoctally are known to consume more coffee and are enamoured by the starbucks brand, i have a suspicion the trend will be skewed in their directions"
   ]
  },
  {
   "cell_type": "code",
   "execution_count": 30,
   "metadata": {},
   "outputs": [
    {
     "data": {
      "image/png": "[encoded data removed]",
      "text/plain": [
       "<Figure size 432x288 with 1 Axes>"
      ]
     },
     "metadata": {
      "needs_background": "light"
     },
     "output_type": "display_data"
    }
   ],
   "source": [
    "#Viewing the age ranges of our Stabucks customers\n",
    "profile['age_range'].value_counts().sort_index().plot(kind = 'bar', color = my_crimson_color);\n",
    "plt.title('The Age Distribution of Starbucks Customers');\n",
    "plt.style.use('seaborn');\n",
    "plt.ylabel('Number of Customers');\n",
    "plt.xlabel('Age Ranges');"
   ]
  },
  {
   "cell_type": "markdown",
   "metadata": {},
   "source": [
    "### A1: The actual age distributions of Starbucks customers.\n",
    "It would seem like that from the data shows that the largest purchaser seems to be in the 40's , 50's and 60's range which probably means that the starbucks have become an hangout spot for those close to retirement or already retired. This speaks to the fact that the older one gets , the more likey they are able to afford starbucks high steeped prices of coffee,This might be another reason. "
   ]
  },
  {
   "cell_type": "markdown",
   "metadata": {},
   "source": [
    "### Q2:What does the correlation between number of days an offer has been vs. final transaction amount have to tell us ?\n",
    "\n",
    "The correlation might be that since an offer has been open fpr an extended period of time, The customer might not feel particularly that excited about it. A More enthuastic customer would have claimed the reward earlier, for fear of missing out on the reward.Lets move on and see what the data has to say about this concept"
   ]
  },
  {
   "cell_type": "code",
   "execution_count": 31,
   "metadata": {},
   "outputs": [
    {
     "data": {
      "image/png": "[encoded data removed]",
      "text/plain": [
       "<Figure size 576x396 with 1 Axes>"
      ]
     },
     "metadata": {},
     "output_type": "display_data"
    }
   ],
   "source": [
    "#Visualizing the days spent vs anount spent in a scatter plot\n",
    "plt.scatter(data = transcript_amount, x = 'days', y = 'amount');\n",
    "plt.title('Days Reward Open vs. Final Amount Spent');\n",
    "plt.xlabel('Days Open');\n",
    "plt.ylabel('Amount Finally spent');\n",
    "plt.style.use('seaborn');"
   ]
  },
  {
   "cell_type": "code",
   "execution_count": 32,
   "metadata": {},
   "outputs": [
    {
     "data": {
      "image/png": "[encoded data removed]",
      "text/plain": [
       "<Figure size 576x396 with 1 Axes>"
      ]
     },
     "metadata": {},
     "output_type": "display_data"
    }
   ],
   "source": [
    "#Visualizing the days open vs amount spent in a scatter plot in a more limited view\n",
    "plt.scatter(data = transcript_amount, x = 'days', y = 'amount', alpha = .01);\n",
    "plt.title('Days Reward Open vs. Final Amount Spent');\n",
    "plt.xlabel('Days Open');\n",
    "plt.ylabel('Amount Finally spent');\n",
    "plt.style.use('seaborn');\n",
    "plt.ylim(0,50);"
   ]
  },
  {
   "cell_type": "markdown",
   "metadata": {},
   "source": [
    "### A2: Analysis of amount spent vs. Days Open\n",
    "There seems to be no correlation between thr amount spent and the days the offer was left open. This is clarified bu the two scacatter plots which shows there were no correlation between the two \n"
   ]
  },
  {
   "cell_type": "markdown",
   "metadata": {},
   "source": [
    "### Q3: Does gender have any effect on the data ?\n",
    "Lets take a dive into how gender might have an effect on the videos. Our dataset have three indistinct genders: Male, Female, and Other"
   ]
  },
  {
   "cell_type": "code",
   "execution_count": 33,
   "metadata": {},
   "outputs": [
    {
     "data": {
      "image/png": "[encoded data removed]",
      "text/plain": [
       "<Figure size 576x396 with 1 Axes>"
      ]
     },
     "metadata": {},
     "output_type": "display_data"
    }
   ],
   "source": [
    "#Visualizing the gender distribution in a seaborn count plot\n",
    "sb.countplot(data = profile,x = 'age_range', hue = 'gender')\n",
    "plt.title('Distribution of Genders Across Age Ranges');\n",
    "plt.xlabel('Age Ranges');\n",
    "plt.ylabel('Number of People');\n",
    "plt.style.use('seaborn');\n"
   ]
  },
  {
   "cell_type": "code",
   "execution_count": 34,
   "metadata": {},
   "outputs": [
    {
     "data": {
      "image/png": "[encoded data removed]",
      "text/plain": [
       "<Figure size 576x396 with 1 Axes>"
      ]
     },
     "metadata": {},
     "output_type": "display_data"
    }
   ],
   "source": [
    "#Visualizing the gender/income/age range distribution in a seaborn bar plot\n",
    "sb.barplot(data = profile, x = 'age_range', y = 'income', hue = 'gender');\n",
    "plt.title('Distribution of Income Across Genders and Ages');\n",
    "plt.xlabel('Age Ranges');\n",
    "plt.ylabel('Income');\n",
    "plt.style.use('seaborn');"
   ]
  },
  {
   "cell_type": "markdown",
   "metadata": {},
   "source": [
    "### A3: Analysis of gender across our customer data\n",
    "The first plot did not suprise me at all , i had a feeling that since its the general sentiment that men made more money, then its only normal the had more income,However the second plot nullifies that point and shows that women had higher income on average across the age ranges, even though there was not much disparity between the income ranges.I was really suprised by this plot reaction"
   ]
  },
  {
   "cell_type": "markdown",
   "metadata": {},
   "source": [
    "### Q4: What are the salary ranges of people across different age groups\n",
    "\n",
    "I wanted to see how the salary ranges of these various age groups might affect how often a person visits Starbucks and use their rewards program. My hypothesis is that the older you are the higher you earn and are more likely to buy more\n"
   ]
  },
  {
   "cell_type": "code",
   "execution_count": 35,
   "metadata": {},
   "outputs": [
    {
     "data": {
      "image/png": "[encoded data removed]",
      "text/plain": [
       "<Figure size 576x396 with 1 Axes>"
      ]
     },
     "metadata": {},
     "output_type": "display_data"
    }
   ],
   "source": [
    "#Visualizing the data in a violin plot\n",
    "sb.violinplot(data = profile, x = 'age_range', y = 'income', color = my_blue_color, inner = 'quartile');\n",
    "plt.title('Starbucks Customers - Income Distribution Across Age Ranges');\n",
    "plt.xlabel('Age Ranges')\n",
    "plt.ylabel('Salary Range')\n",
    "plt.style.use('seaborn')"
   ]
  },
  {
   "cell_type": "code",
   "execution_count": 36,
   "metadata": {},
   "outputs": [
    {
     "data": {
      "image/png": "[encoded data removed]",
      "text/plain": [
       "<Figure size 576x396 with 1 Axes>"
      ]
     },
     "metadata": {},
     "output_type": "display_data"
    }
   ],
   "source": [
    "#Visualizing the data in a scatter plot using individual ages instead of age ranges\n",
    "plt.scatter(data = profile, x = 'age', y = 'income');\n",
    "plt.title('Starbucks Customers - Income Distribution Across Individual Ages');\n",
    "plt.xlabel('Ages');\n",
    "plt.ylabel('Salary Range');\n",
    "plt.style.use('seaborn');"
   ]
  },
  {
   "cell_type": "markdown",
   "metadata": {},
   "source": [
    " ### A4: Analysis of Income Distribution\n",
    " When visualizing the data with the violin plots, My hypothesis was confirmed  that older customers definitely tend to make more money;There seemed to be an hard cap at 80,000 on the salary range for young people while for old people the hard cap its 120,000. I think the problem is that i know people in thier 20's and 30's don't have that salary cap so that might be as a result of the data gathered \n",
    " "
   ]
  },
  {
   "cell_type": "markdown",
   "metadata": {},
   "source": [
    "##  "
   ]
  },
  {
   "cell_type": "markdown",
   "metadata": {},
   "source": [
    "\n",
    "### Data Preprocessing\n",
    "\n",
    "With initial analysis / clean up and EDA under our belt, let's move on into formalizing some data preprocessing before we move into modeling the data with some unsupervised models. First, we'll formalize what we already did above for our individual dataset into their own respective functions, and next, we'll start combining these datasets appropriately given our insights gleaned from our exploratory data analysis.\n"
   ]
  },
  {
   "cell_type": "code",
   "execution_count": 3,
   "metadata": {},
   "outputs": [
    {
     "data": {
      "text/html": [
       "<div>\n",
       "<style scoped>\n",
       "    .dataframe tbody tr th:only-of-type {\n",
       "        vertical-align: middle;\n",
       "    }\n",
       "\n",
       "    .dataframe tbody tr th {\n",
       "        vertical-align: top;\n",
       "    }\n",
       "\n",
       "    .dataframe thead th {\n",
       "        text-align: right;\n",
       "    }\n",
       "</style>\n",
       "<table border=\"1\" class=\"dataframe\">\n",
       "  <thead>\n",
       "    <tr style=\"text-align: right;\">\n",
       "      <th></th>\n",
       "      <th>reward</th>\n",
       "      <th>difficulty</th>\n",
       "      <th>duration</th>\n",
       "      <th>offer_id</th>\n",
       "      <th>offer_bogo</th>\n",
       "      <th>offer_discount</th>\n",
       "      <th>offer_informational</th>\n",
       "      <th>channel_email</th>\n",
       "      <th>channel_mobile</th>\n",
       "      <th>channel_social</th>\n",
       "      <th>channel_web</th>\n",
       "    </tr>\n",
       "  </thead>\n",
       "  <tbody>\n",
       "    <tr>\n",
       "      <th>0</th>\n",
       "      <td>10</td>\n",
       "      <td>10</td>\n",
       "      <td>7</td>\n",
       "      <td>ae264e3637204a6fb9bb56bc8210ddfd</td>\n",
       "      <td>1</td>\n",
       "      <td>0</td>\n",
       "      <td>0</td>\n",
       "      <td>1</td>\n",
       "      <td>1</td>\n",
       "      <td>1</td>\n",
       "      <td>0</td>\n",
       "    </tr>\n",
       "    <tr>\n",
       "      <th>1</th>\n",
       "      <td>10</td>\n",
       "      <td>10</td>\n",
       "      <td>5</td>\n",
       "      <td>4d5c57ea9a6940dd891ad53e9dbe8da0</td>\n",
       "      <td>1</td>\n",
       "      <td>0</td>\n",
       "      <td>0</td>\n",
       "      <td>1</td>\n",
       "      <td>1</td>\n",
       "      <td>1</td>\n",
       "      <td>1</td>\n",
       "    </tr>\n",
       "    <tr>\n",
       "      <th>2</th>\n",
       "      <td>0</td>\n",
       "      <td>0</td>\n",
       "      <td>4</td>\n",
       "      <td>3f207df678b143eea3cee63160fa8bed</td>\n",
       "      <td>0</td>\n",
       "      <td>0</td>\n",
       "      <td>1</td>\n",
       "      <td>1</td>\n",
       "      <td>1</td>\n",
       "      <td>0</td>\n",
       "      <td>1</td>\n",
       "    </tr>\n",
       "    <tr>\n",
       "      <th>3</th>\n",
       "      <td>5</td>\n",
       "      <td>5</td>\n",
       "      <td>7</td>\n",
       "      <td>9b98b8c7a33c4b65b9aebfe6a799e6d9</td>\n",
       "      <td>1</td>\n",
       "      <td>0</td>\n",
       "      <td>0</td>\n",
       "      <td>1</td>\n",
       "      <td>1</td>\n",
       "      <td>0</td>\n",
       "      <td>1</td>\n",
       "    </tr>\n",
       "    <tr>\n",
       "      <th>4</th>\n",
       "      <td>5</td>\n",
       "      <td>20</td>\n",
       "      <td>10</td>\n",
       "      <td>0b1e1539f2cc45b7b9fa7c272da2e1d7</td>\n",
       "      <td>0</td>\n",
       "      <td>1</td>\n",
       "      <td>0</td>\n",
       "      <td>1</td>\n",
       "      <td>0</td>\n",
       "      <td>0</td>\n",
       "      <td>1</td>\n",
       "    </tr>\n",
       "  </tbody>\n",
       "</table>\n",
       "</div>"
      ],
      "text/plain": [
       "   reward  difficulty  duration                          offer_id  offer_bogo  \\\n",
       "0      10          10         7  ae264e3637204a6fb9bb56bc8210ddfd           1   \n",
       "1      10          10         5  4d5c57ea9a6940dd891ad53e9dbe8da0           1   \n",
       "2       0           0         4  3f207df678b143eea3cee63160fa8bed           0   \n",
       "3       5           5         7  9b98b8c7a33c4b65b9aebfe6a799e6d9           1   \n",
       "4       5          20        10  0b1e1539f2cc45b7b9fa7c272da2e1d7           0   \n",
       "\n",
       "   offer_discount  offer_informational  channel_email  channel_mobile  \\\n",
       "0               0                    0              1               1   \n",
       "1               0                    0              1               1   \n",
       "2               0                    1              1               1   \n",
       "3               0                    0              1               1   \n",
       "4               1                    0              1               0   \n",
       "\n",
       "   channel_social  channel_web  \n",
       "0               1            0  \n",
       "1               1            1  \n",
       "2               0            1  \n",
       "3               0            1  \n",
       "4               0            1  "
      ]
     },
     "execution_count": 3,
     "metadata": {},
     "output_type": "execute_result"
    }
   ],
   "source": [
    "#Function to clean up portfolio\n",
    "\n",
    "def clean_portfolio(portfolio = portfolio):\n",
    "    #Changing the column name from 'id' to 'offer_id'\n",
    "    portfolio.rename(columns = {'id': 'offer_id'}, inplace = True)\n",
    "    \n",
    "    #One hot encoding the offer_type field, fixing a prefix of 'offer'\n",
    "    offer_dummies = pd.get_dummies(portfolio['offer_type'], prefix = 'offer')\n",
    "    portfolio = pd.concat([portfolio, offer_dummies], axis = 1)\n",
    "    \n",
    "    #Separating and one hot encoding the channels field\n",
    "    channels_one_hot = MultiLabelBinarizer()\n",
    "    sep_channels = channels_one_hot.fit_transform(portfolio['channels'])\n",
    "    channels_df = pd.DataFrame(data = sep_channels, columns = channels_one_hot.classes_)\n",
    "    portfolio = pd.concat([portfolio, channels_df], axis = 1)\n",
    "    portfolio.rename(columns = {'email': 'channel_email', 'mobile': 'channel_mobile', 'social': 'channel_social', 'web': 'channel_web'}, inplace = True)\n",
    "    \n",
    "    #Dropping the now former columns\n",
    "    portfolio.drop(columns = ['channels', 'offer_type'], axis = 1, inplace = True)\n",
    "    \n",
    "    return portfolio\n",
    "\n",
    "portfolio_clean = clean_portfolio()\n",
    "portfolio_clean.head()\n",
    "    "
   ]
  },
  {
   "cell_type": "code",
   "execution_count": 4,
   "metadata": {},
   "outputs": [
    {
     "data": {
      "text/html": [
       "<div>\n",
       "<style scoped>\n",
       "    .dataframe tbody tr th:only-of-type {\n",
       "        vertical-align: middle;\n",
       "    }\n",
       "\n",
       "    .dataframe tbody tr th {\n",
       "        vertical-align: top;\n",
       "    }\n",
       "\n",
       "    .dataframe thead th {\n",
       "        text-align: right;\n",
       "    }\n",
       "</style>\n",
       "<table border=\"1\" class=\"dataframe\">\n",
       "  <thead>\n",
       "    <tr style=\"text-align: right;\">\n",
       "      <th></th>\n",
       "      <th>gender</th>\n",
       "      <th>age</th>\n",
       "      <th>customer_id</th>\n",
       "      <th>became_member_on</th>\n",
       "      <th>income</th>\n",
       "      <th>days_as_member</th>\n",
       "      <th>age_range</th>\n",
       "    </tr>\n",
       "  </thead>\n",
       "  <tbody>\n",
       "    <tr>\n",
       "      <th>1</th>\n",
       "      <td>F</td>\n",
       "      <td>55</td>\n",
       "      <td>0610b486422d4921ae7d2bf64640c50b</td>\n",
       "      <td>2017-07-15</td>\n",
       "      <td>112000.0</td>\n",
       "      <td>382</td>\n",
       "      <td>50-59</td>\n",
       "    </tr>\n",
       "    <tr>\n",
       "      <th>3</th>\n",
       "      <td>F</td>\n",
       "      <td>75</td>\n",
       "      <td>78afa995795e4d85b5d9ceeca43f5fef</td>\n",
       "      <td>2017-05-09</td>\n",
       "      <td>100000.0</td>\n",
       "      <td>449</td>\n",
       "      <td>70-79</td>\n",
       "    </tr>\n",
       "    <tr>\n",
       "      <th>5</th>\n",
       "      <td>M</td>\n",
       "      <td>68</td>\n",
       "      <td>e2127556f4f64592b11af22de27a7932</td>\n",
       "      <td>2018-04-26</td>\n",
       "      <td>70000.0</td>\n",
       "      <td>97</td>\n",
       "      <td>60-69</td>\n",
       "    </tr>\n",
       "    <tr>\n",
       "      <th>8</th>\n",
       "      <td>M</td>\n",
       "      <td>65</td>\n",
       "      <td>389bc3fa690240e798340f5a15918d5c</td>\n",
       "      <td>2018-02-09</td>\n",
       "      <td>53000.0</td>\n",
       "      <td>173</td>\n",
       "      <td>60-69</td>\n",
       "    </tr>\n",
       "    <tr>\n",
       "      <th>12</th>\n",
       "      <td>M</td>\n",
       "      <td>58</td>\n",
       "      <td>2eeac8d8feae4a8cad5a6af0499a211d</td>\n",
       "      <td>2017-11-11</td>\n",
       "      <td>51000.0</td>\n",
       "      <td>263</td>\n",
       "      <td>50-59</td>\n",
       "    </tr>\n",
       "  </tbody>\n",
       "</table>\n",
       "</div>"
      ],
      "text/plain": [
       "   gender  age                       customer_id became_member_on    income  \\\n",
       "1       F   55  0610b486422d4921ae7d2bf64640c50b       2017-07-15  112000.0   \n",
       "3       F   75  78afa995795e4d85b5d9ceeca43f5fef       2017-05-09  100000.0   \n",
       "5       M   68  e2127556f4f64592b11af22de27a7932       2018-04-26   70000.0   \n",
       "8       M   65  389bc3fa690240e798340f5a15918d5c       2018-02-09   53000.0   \n",
       "12      M   58  2eeac8d8feae4a8cad5a6af0499a211d       2017-11-11   51000.0   \n",
       "\n",
       "    days_as_member age_range  \n",
       "1              382     50-59  \n",
       "3              449     70-79  \n",
       "5               97     60-69  \n",
       "8              173     60-69  \n",
       "12             263     50-59  "
      ]
     },
     "execution_count": 4,
     "metadata": {},
     "output_type": "execute_result"
    }
   ],
   "source": [
    "#Function to clean up profile\n",
    "def clean_profile(profile = profile):\n",
    "    #Dropping rows with null information\n",
    "    profile.dropna(inplace = True)\n",
    "    \n",
    "    #Changing 'id' column name to more appropriate 'customer_id' name\n",
    "    profile.rename(columns = {'id': 'customer_id'}, inplace = True)\n",
    "    \n",
    "    #Changing 'became_member_on' column to a date type\n",
    "    profile['became_member_on'] = profile['became_member_on'].apply(lambda x: datetime.datetime.strptime(str(x), '%Y%m%d').date())\n",
    "    \n",
    "    #Calculating number of days as a member ending on August 1, 2018 in new column 'days_as_member'\n",
    "    end_date = pd.Timestamp('2018-08-01')\n",
    "    end_date = pd.to_datetime(end_date)\n",
    "    profile['days_as_member'] = np.abs((pd.to_datetime(profile['became_member_on']) - end_date).dt.days)\n",
    "    \n",
    "    #Creating 'age_range' column based on 'age'\n",
    "    age_range_labels = ['11-19', '20-29', '30-39', '40-49', '50-59', '60-69', '70-79', '80+']\n",
    "    age_range_bins = [11, 20, 30, 40, 50, 60, 70, 80, 110]\n",
    "    profile['age_range'] = pd.cut(profile['age'], bins = age_range_bins, labels = age_range_labels, right = False)\n",
    "\n",
    "    #Adding a specific order to the age_range_field\n",
    "    profile['age_range'] = pd.Categorical(profile['age_range'], ordered = True, categories = age_range_labels)\n",
    "    return profile\n",
    "\n",
    "profile_clean = clean_profile()\n",
    "profile_clean.head()"
   ]
  },
  {
   "cell_type": "code",
   "execution_count": 5,
   "metadata": {},
   "outputs": [
    {
     "name": "stderr",
     "output_type": "stream",
     "text": [
      "C:\\Users\\HP\\Anaconda3\\lib\\site-packages\\pandas\\core\\frame.py:4446: SettingWithCopyWarning: \n",
      "A value is trying to be set on a copy of a slice from a DataFrame\n",
      "\n",
      "See the caveats in the documentation: https://pandas.pydata.org/pandas-docs/stable/user_guide/indexing.html#returning-a-view-versus-a-copy\n",
      "  errors=errors,\n",
      "C:\\Users\\HP\\Anaconda3\\lib\\site-packages\\pandas\\core\\frame.py:4312: SettingWithCopyWarning: \n",
      "A value is trying to be set on a copy of a slice from a DataFrame\n",
      "\n",
      "See the caveats in the documentation: https://pandas.pydata.org/pandas-docs/stable/user_guide/indexing.html#returning-a-view-versus-a-copy\n",
      "  errors=errors,\n"
     ]
    },
    {
     "name": "stdout",
     "output_type": "stream",
     "text": [
      "                             customer_id  offer_completed  offer_received  \\\n",
      "0       78afa995795e4d85b5d9ceeca43f5fef                0               1   \n",
      "1       78afa995795e4d85b5d9ceeca43f5fef                0               0   \n",
      "3       78afa995795e4d85b5d9ceeca43f5fef                1               0   \n",
      "5       78afa995795e4d85b5d9ceeca43f5fef                0               1   \n",
      "6       78afa995795e4d85b5d9ceeca43f5fef                0               0   \n",
      "...                                  ...              ...             ...   \n",
      "272757  9fcbff4f8d7241faa4ab8a9d19c8a812                0               0   \n",
      "272758  9fcbff4f8d7241faa4ab8a9d19c8a812                0               1   \n",
      "272759  9fcbff4f8d7241faa4ab8a9d19c8a812                0               0   \n",
      "272760  3045af4e98794a04a5542d3eac939b1f                0               1   \n",
      "272761  3045af4e98794a04a5542d3eac939b1f                0               0   \n",
      "\n",
      "        offer_viewed   days                          offer_id  \n",
      "0                  0   0.00  9b98b8c7a33c4b65b9aebfe6a799e6d9  \n",
      "1                  1   0.25  9b98b8c7a33c4b65b9aebfe6a799e6d9  \n",
      "3                  0   5.50  9b98b8c7a33c4b65b9aebfe6a799e6d9  \n",
      "5                  0   7.00  5a8bc65990b245e5a138643cd4eb9837  \n",
      "6                  1   9.00  5a8bc65990b245e5a138643cd4eb9837  \n",
      "...              ...    ...                               ...  \n",
      "272757             1  21.00  3f207df678b143eea3cee63160fa8bed  \n",
      "272758             0  24.00  4d5c57ea9a6940dd891ad53e9dbe8da0  \n",
      "272759             1  24.00  4d5c57ea9a6940dd891ad53e9dbe8da0  \n",
      "272760             0  24.00  4d5c57ea9a6940dd891ad53e9dbe8da0  \n",
      "272761             1  24.00  4d5c57ea9a6940dd891ad53e9dbe8da0  \n",
      "\n",
      "[148805 rows x 6 columns]\n",
      "                             customer_id  transaction   days amount\n",
      "2       78afa995795e4d85b5d9ceeca43f5fef            1   5.50  19.89\n",
      "4       78afa995795e4d85b5d9ceeca43f5fef            1   6.00  17.78\n",
      "7       78afa995795e4d85b5d9ceeca43f5fef            1   9.25  19.67\n",
      "8       78afa995795e4d85b5d9ceeca43f5fef            1  10.00  29.72\n",
      "9       78afa995795e4d85b5d9ceeca43f5fef            1  15.75  23.93\n",
      "...                                  ...          ...    ...    ...\n",
      "272744  47683732768a4f7db7abb710ca22e66e            1  28.50    7.1\n",
      "272747  3873fe915496482eb589fa316ae7b0db            1  21.25   1.57\n",
      "272750  3873fe915496482eb589fa316ae7b0db            1  24.50   1.21\n",
      "272751  3873fe915496482eb589fa316ae7b0db            1  25.50   2.65\n",
      "272755  8578196a074a4f328976e334fa9383a3            1  29.25   4.62\n",
      "\n",
      "[123957 rows x 4 columns]\n"
     ]
    }
   ],
   "source": [
    "#Function to clean up transcript\n",
    "def clean_transcript(transcript = transcript):\n",
    "    #Changing the 'person' category name to 'customer_id'\n",
    "    transcript.rename(columns = {'person': 'customer_id'}, inplace = True)\n",
    "    \n",
    "    #Remove customers not found in the 'profile dataset'\n",
    "    transcript = pd.merge(left = transcript, right = profile, how = 'inner', left_on = 'customer_id', right_on = 'customer_id')\n",
    "    transcript.drop(columns = ['age', 'became_member_on', 'gender', 'income', 'days_as_member', 'age_range'], inplace = True)\n",
    "    \n",
    "    #One hot encode event values\n",
    "    event_dummies = pd.get_dummies(transcript['event'])\n",
    "    event_dummies.rename(columns = {'offer completed': 'offer_completed', 'offer received': 'offer_received', 'offer viewed': 'offer_viewed'}, inplace = True)\n",
    "    transcript = pd.concat([transcript, event_dummies], axis = 1)\n",
    "    \n",
    "    #Change 'time' column to 'days' along with the appropriate values\n",
    "    transcript['days'] = transcript['time'] / 24\n",
    "    transcript.drop(columns = ['time'], inplace = True)\n",
    "    \n",
    "    #Separate value from key in 'value' dictionary to form two new DataFrames: transcript_offer and transcript_amount\n",
    "\n",
    "    #Initial separation\n",
    "    transcript['offer-or-amount'] = transcript['value'].apply(lambda x: list(x.keys())[0])\n",
    "    transcript['id-or-amount'] = transcript['value'].apply(lambda x: list(x.values())[0])\n",
    "\n",
    "    #Conforming 'offer id' to read 'offer_id' consistently\n",
    "    trans_offer_dict = {'offer id': 'offer_id'}\n",
    "    transcript['offer-or-amount'].replace(trans_offer_dict, inplace = True)\n",
    "\n",
    "    #Creating the transcript_offer DataFrame\n",
    "    transcript_offer = transcript[transcript['offer-or-amount'] == 'offer_id']\n",
    "    transcript_offer.rename(columns = {'id-or-amount': 'offer_id'}, inplace = True)\n",
    "    transcript_offer.drop(columns = ['event', 'value', 'offer-or-amount', 'transaction'], inplace = True)\n",
    "\n",
    "    #Creating the transcript_amount DataFrame\n",
    "    transcript_amount = transcript[transcript['offer-or-amount'] == 'amount']\n",
    "    transcript_amount.rename(columns = {'id-or-amount': 'amount'}, inplace = True)\n",
    "    transcript_amount.drop(columns = ['event', 'value', 'offer-or-amount', 'offer_completed', 'offer_received', 'offer_viewed'], inplace = True)\n",
    "\n",
    "    return transcript_offer, transcript_amount\n",
    "\n",
    "transcript_offer_clean, transcript_amount_clean = clean_transcript()\n",
    "print(transcript_offer_clean)\n",
    "print(transcript_amount_clean)"
   ]
  },
  {
   "cell_type": "code",
   "execution_count": null,
   "metadata": {},
   "outputs": [],
   "source": []
  },
  {
   "cell_type": "code",
   "execution_count": null,
   "metadata": {},
   "outputs": [],
   "source": []
  },
  {
   "cell_type": "code",
   "execution_count": null,
   "metadata": {},
   "outputs": [],
   "source": []
  },
  {
   "cell_type": "code",
   "execution_count": null,
   "metadata": {},
   "outputs": [],
   "source": []
  },
  {
   "cell_type": "code",
   "execution_count": null,
   "metadata": {},
   "outputs": [],
   "source": []
  },
  {
   "cell_type": "code",
   "execution_count": null,
   "metadata": {},
   "outputs": [],
   "source": []
  },
  {
   "cell_type": "code",
   "execution_count": null,
   "metadata": {},
   "outputs": [],
   "source": [
    "channels = np.unique([channel for chans in portfolio['channels'].items() for channel in chans[1]])"
   ]
  },
  {
   "cell_type": "code",
   "execution_count": null,
   "metadata": {},
   "outputs": [],
   "source": [
    "profile.info()"
   ]
  },
  {
   "cell_type": "code",
   "execution_count": null,
   "metadata": {},
   "outputs": [],
   "source": [
    "df1 = portfolio.copy()"
   ]
  },
  {
   "cell_type": "code",
   "execution_count": null,
   "metadata": {},
   "outputs": [],
   "source": [
    "dummy = pd.get_dummies(df1.channels.apply(pd.Series).stack().sum(level = 0))\n",
    "df1 = pd.concat([df1,dummy],axis = 1)\n",
    "df1 = df1.drop(columns = 'channels')"
   ]
  },
  {
   "cell_type": "code",
   "execution_count": null,
   "metadata": {},
   "outputs": [],
   "source": [
    "df1 =df1.rename(columns={'id':'offer_id'}) \n",
    "df1"
   ]
  },
  {
   "cell_type": "code",
   "execution_count": null,
   "metadata": {},
   "outputs": [],
   "source": [
    "portfolio.head()"
   ]
  },
  {
   "cell_type": "code",
   "execution_count": null,
   "metadata": {},
   "outputs": [],
   "source": [
    "portfolio['channels']"
   ]
  },
  {
   "cell_type": "code",
   "execution_count": null,
   "metadata": {},
   "outputs": [],
   "source": []
  },
  {
   "cell_type": "code",
   "execution_count": null,
   "metadata": {},
   "outputs": [],
   "source": []
  },
  {
   "cell_type": "code",
   "execution_count": null,
   "metadata": {},
   "outputs": [],
   "source": []
  },
  {
   "cell_type": "code",
   "execution_count": null,
   "metadata": {},
   "outputs": [],
   "source": []
  },
  {
   "cell_type": "code",
   "execution_count": null,
   "metadata": {},
   "outputs": [],
   "source": []
  },
  {
   "cell_type": "code",
   "execution_count": null,
   "metadata": {},
   "outputs": [],
   "source": []
  }
 ],
 "metadata": {
  "kernelspec": {
   "display_name": "Python 3",
   "language": "python",
   "name": "python3"
  },
  "language_info": {
   "codemirror_mode": {
    "name": "ipython",
    "version": 3
   },
   "file_extension": ".py",
   "mimetype": "text/x-python",
   "name": "python",
   "nbconvert_exporter": "python",
   "pygments_lexer": "ipython3",
   "version": "3.7.4"
  }
 },
 "nbformat": 4,
 "nbformat_minor": 2
}
